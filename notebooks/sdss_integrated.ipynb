{
 "cells": [
  {
   "cell_type": "code",
   "execution_count": 1,
   "metadata": {
    "collapsed": false
   },
   "outputs": [],
   "source": [
    "from __future__ import division, print_function, unicode_literals\n",
    "%matplotlib inline\n",
    "import numpy as np\n",
    "import pandas as pd\n",
    "from scipy.special import gammaln\n",
    "from scipy.integrate import quad\n",
    "import matplotlib.pyplot as plt\n",
    "import seaborn as sns\n",
    "\n",
    "from utils.metrics import (\n",
    "    threshold_at_completeness_of,\n",
    "    threshold_at_purity_of,\n",
    "    bayes_conf\n",
    ")\n",
    "\n",
    "plt.rc('legend', fontsize=10)"
   ]
  },
  {
   "cell_type": "code",
   "execution_count": 2,
   "metadata": {
    "collapsed": false
   },
   "outputs": [],
   "source": [
    "df = pd.read_csv(\"sdss_test.csv\")\n",
    "mag_r = df[\"dered_r\"].values"
   ]
  },
  {
   "cell_type": "code",
   "execution_count": 3,
   "metadata": {
    "collapsed": false
   },
   "outputs": [],
   "source": [
    "morph_true, morph_pred = np.loadtxt('sdss_tpc.2.mlz', unpack=True, usecols=(0, 2))"
   ]
  },
  {
   "cell_type": "code",
   "execution_count": 4,
   "metadata": {
    "collapsed": true
   },
   "outputs": [],
   "source": [
    "phot_true, phot_pred = np.loadtxt('sdss_tpc.3.mlz', unpack=True, usecols=(0, 2))"
   ]
  },
  {
   "cell_type": "code",
   "execution_count": 5,
   "metadata": {
    "collapsed": false
   },
   "outputs": [],
   "source": [
    "cnn_true = np.load(\"sdss_test_labels.npy\")\n",
    "cnn_pred = np.load(\"sdss_convnet_pred.npy\")\n",
    "\n",
    "cnn_true = (cnn_true + 1) / 2 # make galaxy=0 and star=1\n",
    "\n",
    "assert cnn_true.min() == 0\n",
    "assert cnn_true.max() == 1\n",
    "assert phot_true.sum() == cnn_true.sum()\n",
    "assert morph_true.sum() == cnn_true.sum()"
   ]
  },
  {
   "cell_type": "code",
   "execution_count": 6,
   "metadata": {
    "collapsed": true
   },
   "outputs": [],
   "source": [
    "mask = ((mag_r > -90) & (mag_r < 90))\n",
    "mag_r, cnn_true, cnn_pred, phot_pred, morph_pred = map(\n",
    "    lambda x: x[mask],\n",
    "    [mag_r, cnn_true, cnn_pred, phot_pred, morph_pred]\n",
    ")"
   ]
  },
  {
   "cell_type": "code",
   "execution_count": 11,
   "metadata": {
    "collapsed": true
   },
   "outputs": [],
   "source": [
    "bins = np.arange(17, 23.5, 0.5)"
   ]
  },
  {
   "cell_type": "code",
   "execution_count": 12,
   "metadata": {
    "collapsed": false
   },
   "outputs": [],
   "source": [
    "def integrated_purity(y_true, y_pred, mag, bins=None, threshold=0.5, step=0.005, tol=0.001):\n",
    "\n",
    "    low = np.zeros_like(bins)\n",
    "    med = np.zeros_like(bins)\n",
    "    high = np.zeros_like(bins)\n",
    "\n",
    "    y_class = (y_pred >= threshold).astype(int)\n",
    "    \n",
    "    for i, b in enumerate(bins):\n",
    "        mask = (mag < b)\n",
    "        k = np.sum((y_true[mask] == 1) & (y_class[mask] == 1))\n",
    "        N = np.sum(y_class[mask] == 1)\n",
    "        med[i] = k / N\n",
    "        low[i], high[i], _ = bayes_conf(N, k, step=step, tol=tol)\n",
    "    \n",
    "    return low, med, high"
   ]
  },
  {
   "cell_type": "code",
   "execution_count": 13,
   "metadata": {
    "collapsed": false
   },
   "outputs": [],
   "source": [
    "def integrated_completeness(y_true, y_pred, mag, bins=None, threshold=0.5, step=0.005, tol=0.001):\n",
    "\n",
    "    low = np.zeros_like(bins)\n",
    "    med = np.zeros_like(bins)\n",
    "    high = np.zeros_like(bins)\n",
    "    \n",
    "    y_class = (y_pred >= threshold).astype(int)\n",
    "    \n",
    "    for i, b in enumerate(bins):\n",
    "        mask = (mag < b)\n",
    "        k = np.sum((y_true[mask] == 1) & (y_class[mask] == 1))\n",
    "        N = np.sum(y_true[mask] == 1)\n",
    "    \n",
    "        if N > 0:\n",
    "            med[i] = k / N\n",
    "            low[i], high[i], _ = bayes_conf(N, k, step=step, tol=tol)\n",
    "        else:\n",
    "            low[i], med[i], high[i] = np.nan, np.nan, np.nan\n",
    "            \n",
    "    return low, med, high"
   ]
  },
  {
   "cell_type": "code",
   "execution_count": 19,
   "metadata": {
    "collapsed": false
   },
   "outputs": [
    {
     "name": "stdout",
     "output_type": "stream",
     "text": [
      "Done. N = 1444, k = 1439, area: 0.683, alpha: 0.9952, beta: 0.9990\n",
      "Done. N = 2636, k = 2627, area: 0.682, alpha: 0.9952, beta: 0.9975\n",
      "Done. N = 3597, k = 3581, area: 0.682, alpha: 0.9945, beta: 0.9968\n",
      "Done. N = 4098, k = 4080, area: 0.684, alpha: 0.9947, beta: 0.9969\n",
      "Done. N = 4804, k = 4785, area: 0.684, alpha: 0.9951, beta: 0.9969\n",
      "Done. N = 5594, k = 5570, area: 0.683, alpha: 0.9950, beta: 0.9968\n",
      "Done. N = 6435, k = 6405, area: 0.683, alpha: 0.9945, beta: 0.9963\n",
      "Done. N = 8278, k = 8239, area: 0.683, alpha: 0.9945, beta: 0.9960\n",
      "Done. N = 10000, k = 9944, area: 0.684, alpha: 0.9937, beta: 0.9953\n",
      "Done. N = 10523, k = 10449, area: 0.682, alpha: 0.9922, beta: 0.9938\n",
      "Done. N = 10635, k = 10547, area: 0.683, alpha: 0.9907, beta: 0.9926\n",
      "Done. N = 10652, k = 10562, area: 0.683, alpha: 0.9907, beta: 0.9925\n",
      "Done. N = 10654, k = 10563, area: 0.683, alpha: 0.9906, beta: 0.9924\n"
     ]
    }
   ],
   "source": [
    "cnn_cut, _ = threshold_at_completeness_of(1 - cnn_true, 1 - cnn_pred, 0.96)\n",
    "\n",
    "cnn_g_low, cnn_g_med, cnn_g_high = integrated_purity(\n",
    "    1 - cnn_true, 1- cnn_pred,\n",
    "    mag=mag_r, bins=bins, threshold=cnn_cut, step=0.001\n",
    "    )"
   ]
  },
  {
   "cell_type": "code",
   "execution_count": 20,
   "metadata": {
    "collapsed": false
   },
   "outputs": [
    {
     "name": "stdout",
     "output_type": "stream",
     "text": [
      "Done. N = 1448, k = 1447, area: 1.000, alpha: 0.9990, beta: 1.0000\n",
      "Done. N = 2646, k = 2644, area: 1.000, alpha: 0.9990, beta: 1.0000\n",
      "Done. N = 3606, k = 3603, area: 1.000, alpha: 0.9990, beta: 1.0000\n",
      "Done. N = 4106, k = 4103, area: 1.000, alpha: 0.9990, beta: 1.0000\n",
      "Done. N = 4817, k = 4813, area: 1.000, alpha: 0.9990, beta: 1.0000\n",
      "Done. N = 5617, k = 5612, area: 1.000, alpha: 0.9990, beta: 1.0000\n",
      "Done. N = 6481, k = 6473, area: 1.000, alpha: 0.9984, beta: 1.0000\n",
      "Done. N = 8365, k = 8349, area: 0.683, alpha: 0.9975, beta: 0.9985\n",
      "Done. N = 10090, k = 10066, area: 0.683, alpha: 0.9972, beta: 0.9982\n",
      "Done. N = 10539, k = 10515, area: 0.683, alpha: 0.9973, beta: 0.9982\n",
      "Done. N = 10589, k = 10565, area: 0.684, alpha: 0.9973, beta: 0.9983\n",
      "Done. N = 10590, k = 10566, area: 0.683, alpha: 0.9973, beta: 0.9983\n",
      "Done. N = 10590, k = 10566, area: 0.683, alpha: 0.9973, beta: 0.9983\n"
     ]
    }
   ],
   "source": [
    "morph_cut, _ = threshold_at_completeness_of(1 - morph_true, 1 - morph_pred, 0.96)\n",
    "\n",
    "morph_g_low, morph_g_med, morph_g_high = integrated_purity(\n",
    "    1 - morph_true, 1- morph_pred,\n",
    "    mag=mag_r, bins=bins, threshold=morph_cut, step=0.001\n",
    "    )"
   ]
  },
  {
   "cell_type": "code",
   "execution_count": 21,
   "metadata": {
    "collapsed": false
   },
   "outputs": [
    {
     "name": "stdout",
     "output_type": "stream",
     "text": [
      "Done. N = 1406, k = 1399, area: 0.683, alpha: 0.9932, beta: 0.9971\n",
      "Done. N = 2569, k = 2557, area: 0.683, alpha: 0.9939, beta: 0.9967\n",
      "Done. N = 3505, k = 3485, area: 0.684, alpha: 0.9932, beta: 0.9959\n",
      "Done. N = 4000, k = 3969, area: 0.683, alpha: 0.9910, beta: 0.9940\n",
      "Done. N = 4699, k = 4662, area: 0.683, alpha: 0.9907, beta: 0.9934\n",
      "Done. N = 5485, k = 5430, area: 0.683, alpha: 0.9887, beta: 0.9914\n",
      "Done. N = 6337, k = 6258, area: 0.683, alpha: 0.9861, beta: 0.9889\n",
      "Done. N = 8307, k = 8188, area: 0.682, alpha: 0.9847, beta: 0.9874\n",
      "Done. N = 10150, k = 9986, area: 0.683, alpha: 0.9825, beta: 0.9850\n",
      "Done. N = 10668, k = 10476, area: 0.684, alpha: 0.9810, beta: 0.9838\n",
      "Done. N = 10746, k = 10551, area: 0.683, alpha: 0.9810, beta: 0.9839\n",
      "Done. N = 10756, k = 10561, area: 0.683, alpha: 0.9809, beta: 0.9837\n",
      "Done. N = 10757, k = 10562, area: 0.684, alpha: 0.9809, beta: 0.9837\n"
     ]
    }
   ],
   "source": [
    "phot_cut, _ = threshold_at_completeness_of(1 - phot_true, 1 - phot_pred, 0.96)\n",
    "\n",
    "phot_g_low, phot_g_med, phot_g_high = integrated_purity(\n",
    "    1 - phot_true, 1- phot_pred,\n",
    "    mag=mag_r, bins=bins, threshold=phot_cut, step=0.001\n",
    "    )"
   ]
  },
  {
   "cell_type": "code",
   "execution_count": 22,
   "metadata": {
    "collapsed": false
   },
   "outputs": [
    {
     "name": "stdout",
     "output_type": "stream",
     "text": [
      "Done. N = 1006, k = 976, area: 0.683, alpha: 0.9655, beta: 0.9765\n",
      "Done. N = 1387, k = 1346, area: 0.682, alpha: 0.9660, beta: 0.9752\n",
      "Done. N = 1814, k = 1749, area: 0.682, alpha: 0.9600, beta: 0.9692\n",
      "Done. N = 2189, k = 2103, area: 0.684, alpha: 0.9573, beta: 0.9660\n",
      "Done. N = 2581, k = 2482, area: 0.683, alpha: 0.9589, beta: 0.9669\n",
      "Done. N = 2905, k = 2791, area: 0.684, alpha: 0.9577, beta: 0.9650\n",
      "Done. N = 3211, k = 3085, area: 0.683, alpha: 0.9579, beta: 0.9650\n",
      "Done. N = 3512, k = 3349, area: 0.682, alpha: 0.9509, beta: 0.9584\n",
      "Done. N = 3789, k = 3562, area: 0.684, alpha: 0.9368, beta: 0.9446\n",
      "Done. N = 3936, k = 3648, area: 0.682, alpha: 0.9232, beta: 0.9316\n",
      "Done. N = 3982, k = 3670, area: 0.684, alpha: 0.9175, beta: 0.9262\n",
      "Done. N = 3994, k = 3680, area: 0.683, alpha: 0.9186, beta: 0.9281\n",
      "Done. N = 3997, k = 3682, area: 0.682, alpha: 0.9180, beta: 0.9271\n"
     ]
    }
   ],
   "source": [
    "cnn_p_cut = 0.60463386\n",
    "\n",
    "cnn_s_low, cnn_s_med, cnn_s_high = integrated_completeness(\n",
    "    cnn_true, cnn_pred,\n",
    "    mag=mag_r, bins=bins, threshold=cnn_cut, step=0.005\n",
    "    )"
   ]
  },
  {
   "cell_type": "code",
   "execution_count": 23,
   "metadata": {
    "collapsed": false
   },
   "outputs": [
    {
     "name": "stdout",
     "output_type": "stream",
     "text": [
      "Done. N = 1006, k = 1004, area: 1.000, alpha: 0.9950, beta: 1.0000\n",
      "Done. N = 1387, k = 1384, area: 1.000, alpha: 0.9950, beta: 1.0000\n",
      "Done. N = 1814, k = 1809, area: 1.000, alpha: 0.9950, beta: 1.0000\n",
      "Done. N = 2189, k = 2184, area: 1.000, alpha: 0.9950, beta: 1.0000\n",
      "Done. N = 2581, k = 2574, area: 1.000, alpha: 0.9950, beta: 1.0000\n",
      "Done. N = 2905, k = 2895, area: 1.000, alpha: 0.9950, beta: 1.0000\n",
      "Done. N = 3211, k = 3195, area: 1.000, alpha: 0.9960, beta: 1.0000\n",
      "Done. N = 3512, k = 3477, area: 0.683, alpha: 0.9887, beta: 0.9923\n",
      "Done. N = 3789, k = 3726, area: 0.684, alpha: 0.9816, beta: 0.9859\n",
      "Done. N = 3936, k = 3860, area: 0.683, alpha: 0.9792, beta: 0.9874\n",
      "Done. N = 3982, k = 3906, area: 0.682, alpha: 0.9790, beta: 0.9834\n",
      "Done. N = 3994, k = 3918, area: 0.684, alpha: 0.9787, beta: 0.9831\n",
      "Done. N = 3997, k = 3921, area: 0.682, alpha: 0.9792, beta: 0.9837\n"
     ]
    }
   ],
   "source": [
    "morph_cut, _ = threshold_at_purity_of(morph_true, morph_pred, 0.97)\n",
    "\n",
    "morph_s_low, morph_s_med, morph_s_high = integrated_completeness(\n",
    "    morph_true, morph_pred,\n",
    "    mag=mag_r, bins=bins, threshold=morph_cut, step=0.005\n",
    "    )"
   ]
  },
  {
   "cell_type": "code",
   "execution_count": 24,
   "metadata": {
    "collapsed": false
   },
   "outputs": [
    {
     "name": "stdout",
     "output_type": "stream",
     "text": [
      "Done. N = 1006, k = 965, area: 0.684, alpha: 0.9535, beta: 0.9661\n",
      "Done. N = 1387, k = 1328, area: 0.682, alpha: 0.9518, beta: 0.9626\n",
      "Done. N = 1814, k = 1727, area: 0.683, alpha: 0.9482, beta: 0.9589\n",
      "Done. N = 2189, k = 2076, area: 0.683, alpha: 0.9437, beta: 0.9531\n",
      "Done. N = 2581, k = 2439, area: 0.683, alpha: 0.9400, beta: 0.9500\n",
      "Done. N = 2905, k = 2703, area: 0.684, alpha: 0.9269, beta: 0.9370\n",
      "Done. N = 3211, k = 2947, area: 0.683, alpha: 0.9132, beta: 0.9230\n",
      "Done. N = 3512, k = 3176, area: 0.683, alpha: 0.9002, beta: 0.9104\n",
      "Done. N = 3789, k = 3390, area: 0.683, alpha: 0.8899, beta: 0.8999\n",
      "Done. N = 3936, k = 3497, area: 0.684, alpha: 0.8844, beta: 0.8948\n",
      "Done. N = 3982, k = 3537, area: 0.682, alpha: 0.8829, beta: 0.8929\n",
      "Done. N = 3994, k = 3547, area: 0.683, alpha: 0.8829, beta: 0.8929\n",
      "Done. N = 3997, k = 3549, area: 0.683, alpha: 0.8829, beta: 0.8929\n"
     ]
    }
   ],
   "source": [
    "phot_cut, _ = threshold_at_purity_of(phot_true, phot_pred, 0.97)\n",
    "\n",
    "phot_s_low, phot_s_med, phot_s_high = integrated_completeness(\n",
    "    phot_true, phot_pred,\n",
    "    mag=mag_r, bins=bins, threshold=phot_cut, step=0.005\n",
    "    )"
   ]
  },
  {
   "cell_type": "code",
   "execution_count": 43,
   "metadata": {
    "collapsed": false
   },
   "outputs": [
    {
     "data": {
      "image/png": "[encoded data removed]",
      "text/plain": [
       "<matplotlib.figure.Figure at 0x7fbebe3b2e50>"
      ]
     },
     "metadata": {},
     "output_type": "display_data"
    }
   ],
   "source": [
    "p = sns.color_palette()\n",
    "sns.set_style(\"ticks\")\n",
    "\n",
    "fig = plt.figure(figsize=(6, 6))\n",
    "\n",
    "ax0 = plt.subplot2grid((6, 3), (0, 0), colspan=3, rowspan=3)\n",
    "ax1 = plt.subplot2grid((6, 3), (3, 0), colspan=3, rowspan=3)\n",
    "\n",
    "plt.setp(ax0.get_xticklabels(), visible=False)\n",
    "\n",
    "offset = 0.05\n",
    "\n",
    "ax0.errorbar(\n",
    "    bins, cnn_g_med,\n",
    "    yerr=[cnn_g_med - cnn_g_low, cnn_g_high - cnn_g_med],\n",
    "    label='ConvNet', ls='-', marker='o', markersize=4, color=p[2])\n",
    "\n",
    "ax0.errorbar(\n",
    "    bins - offset, morph_g_med,\n",
    "    yerr=[morph_g_med - morph_g_low, morph_g_high - morph_g_med],\n",
    "    label='$\\mathregular{TPC_{morph}}$', ls='--', marker='o', markersize=4, color=p[0])\n",
    "\n",
    "ax0.errorbar(\n",
    "    bins + offset, phot_g_med,\n",
    "    yerr=[phot_g_med - phot_g_low, phot_g_high - phot_g_med],\n",
    "    label='$\\mathregular{TPC_{phot}}$', ls='--', marker='o', markersize=4, color=p[4])\n",
    "\n",
    "ax0.set_xlim(16.8, 22.7)\n",
    "ax0.set_ylim(0.975, 1.005)\n",
    "ax0.set_yticks([0.98, 0.99, 1.0])\n",
    "ax0.set_ylabel(r'$p_g\\left(c_g=0.96\\right)$', fontsize=12)\n",
    "\n",
    "ax0.legend(loc='lower left')\n",
    "\n",
    "ax1.errorbar(\n",
    "    bins, cnn_s_med,\n",
    "    yerr=[cnn_s_med - cnn_s_low, cnn_s_high - cnn_s_med],\n",
    "    label='ConvNet', ls='-', marker='o', markersize=4, color=p[2])\n",
    "\n",
    "ax1.errorbar(\n",
    "    bins - offset, morph_s_med,\n",
    "    yerr=[morph_s_med - morph_s_low, morph_s_high - morph_s_med],\n",
    "    label='$\\mathregular{TPC_{morph}}$', ls='--', marker='o', markersize=4, color=p[0])\n",
    "\n",
    "ax1.errorbar(\n",
    "    bins + offset, phot_s_med,\n",
    "    yerr=[phot_s_med - phot_s_low, phot_s_high - phot_s_med],\n",
    "    label='$\\mathregular{TPC_{phot}}$', ls='--', marker='o', markersize=4, color=p[4])\n",
    "\n",
    "ax1.set_ylabel(r'$c_s\\left(p_s=0.97\\right)$', fontsize=12)\n",
    "ax1.set_xlim(16.8, 22.7)\n",
    "ax1.set_ylim(0.87, 1.01)\n",
    "ax1.set_yticks([0.88, 0.92, 0.96, 1.00])\n",
    "\n",
    "ax1.set_xlabel(r'$r$ (mag)')\n",
    "\n",
    "plt.subplots_adjust(hspace=0)\n",
    "\n",
    "plt.savefig('figures/sdss_integrated.pdf')\n",
    "\n",
    "plt.show()"
   ]
  },
  {
   "cell_type": "code",
   "execution_count": null,
   "metadata": {
    "collapsed": true
   },
   "outputs": [],
   "source": []
  }
 ],
 "metadata": {
  "kernelspec": {
   "display_name": "Python 2",
   "language": "python",
   "name": "python2"
  },
  "language_info": {
   "codemirror_mode": {
    "name": "ipython",
    "version": 2
   },
   "file_extension": ".py",
   "mimetype": "text/x-python",
   "name": "python",
   "nbconvert_exporter": "python",
   "pygments_lexer": "ipython2",
   "version": "2.7.6"
  }
 },
 "nbformat": 4,
 "nbformat_minor": 0
}
