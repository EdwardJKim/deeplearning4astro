{
 "cells": [
  {
   "cell_type": "code",
   "execution_count": 1,
   "metadata": {
    "collapsed": false
   },
   "outputs": [],
   "source": [
    "%matplotlib inline\n",
    "from __future__ import print_function, division\n",
    "import numpy as np\n",
    "import scipy as sp\n",
    "import pandas as pd\n",
    "import matplotlib.pyplot as plt\n",
    "\n",
    "from utils.metrics import (\n",
    "    threshold_at_completeness_of,\n",
    "    threshold_at_purity_of,\n",
    "    get_purity,\n",
    "    get_completeness,\n",
    "    bayes_conf,\n",
    "    get_interval,\n",
    "    get_bayes_interval,\n",
    "    calibration_error\n",
    "    )"
   ]
  },
  {
   "cell_type": "code",
   "execution_count": 2,
   "metadata": {
    "collapsed": false
   },
   "outputs": [],
   "source": [
    "df = pd.read_csv(\"sdss_test.csv\")\n",
    "mag_r = df[\"dered_r\"].values"
   ]
  },
  {
   "cell_type": "code",
   "execution_count": 3,
   "metadata": {
    "collapsed": false
   },
   "outputs": [],
   "source": [
    "morph_true, morph_pred = np.loadtxt('sdss_tpc.2.mlz', unpack=True, usecols=(0, 2))\n",
    "morph_pred = 1.0 - morph_pred # make galaxy=0 and star=1"
   ]
  },
  {
   "cell_type": "code",
   "execution_count": 4,
   "metadata": {
    "collapsed": false
   },
   "outputs": [],
   "source": [
    "phot_true, phot_pred = np.loadtxt('sdss_tpc.3.mlz', unpack=True, usecols=(0, 2))\n",
    "phot_pred = 1.0 - phot_pred # make galaxy=0 and star=1"
   ]
  },
  {
   "cell_type": "code",
   "execution_count": 5,
   "metadata": {
    "collapsed": false
   },
   "outputs": [],
   "source": [
    "y_true = np.load(\"sdss_test_labels.npy\")\n",
    "cnn_pred = np.load(\"sdss_convnet_pred.npy\")\n",
    "\n",
    "cnn_pred = 1.0 - cnn_pred # make galaxy=0 and star=1\n",
    "y_true = (1.0 - y_true) / 2 # make galaxy=0 and star=1"
   ]
  },
  {
   "cell_type": "code",
   "execution_count": 6,
   "metadata": {
    "collapsed": true
   },
   "outputs": [],
   "source": [
    "mask = ((mag_r > -90) & (mag_r < 90))\n",
    "mag_r, y_true, cnn_pred, phot_pred, morph_pred = map(\n",
    "    lambda x: x[mask],\n",
    "    [mag_r, y_true, cnn_pred, phot_pred, morph_pred]\n",
    ")"
   ]
  },
  {
   "cell_type": "code",
   "execution_count": 7,
   "metadata": {
    "collapsed": false
   },
   "outputs": [
    {
     "name": "stdout",
     "output_type": "stream",
     "text": [
      "0.995161246423\n",
      "0.996714806395\n",
      "0.98856608602\n"
     ]
    }
   ],
   "source": [
    "from sklearn.metrics import roc_auc_score\n",
    "print(roc_auc_score(y_true, cnn_pred))\n",
    "print(roc_auc_score(y_true, morph_pred))\n",
    "print(roc_auc_score(y_true, phot_pred))"
   ]
  },
  {
   "cell_type": "code",
   "execution_count": 8,
   "metadata": {
    "collapsed": false
   },
   "outputs": [
    {
     "name": "stdout",
     "output_type": "stream",
     "text": [
      "0.0181964385141\n",
      "0.00985514553333\n",
      "0.0283448357687\n"
     ]
    }
   ],
   "source": [
    "from sklearn.metrics import mean_squared_error\n",
    "print(mean_squared_error(y_true, cnn_pred))\n",
    "print(mean_squared_error(y_true, morph_pred))\n",
    "print(mean_squared_error(y_true, phot_pred))"
   ]
  },
  {
   "cell_type": "code",
   "execution_count": 9,
   "metadata": {
    "collapsed": false
   },
   "outputs": [
    {
     "name": "stdout",
     "output_type": "stream",
     "text": [
      "0.991458607096\n",
      "0.997733711048\n",
      "0.98187226922\n"
     ]
    }
   ],
   "source": [
    "cnn_p_cut, _ = threshold_at_completeness_of(y_true, cnn_pred, 0.96)\n",
    "morph_p_cut, _ = threshold_at_completeness_of(y_true, morph_pred, 0.96)\n",
    "phot_p_cut, _ = threshold_at_completeness_of(y_true, phot_pred, 0.96)\n",
    "\n",
    "print(get_purity(y_true, cnn_pred, cnn_p_cut))\n",
    "print(get_purity(y_true, morph_pred, morph_p_cut))\n",
    "print(get_purity(y_true, phot_pred, phot_p_cut))"
   ]
  },
  {
   "cell_type": "code",
   "execution_count": 10,
   "metadata": {
    "collapsed": false
   },
   "outputs": [
    {
     "name": "stdout",
     "output_type": "stream",
     "text": [
      "0.0242682011509\n",
      "0.980985739304\n",
      "0.887915936953\n"
     ]
    }
   ],
   "source": [
    "cnn_p_cut, _ = threshold_at_purity_of(1 - y_true, 1 - cnn_pred, 0.97)\n",
    "morph_p_cut, _ = threshold_at_purity_of(1 - y_true, 1 - morph_pred, 0.97)\n",
    "phot_p_cut, _ = threshold_at_purity_of(1 - y_true, 1 - phot_pred, 0.97)\n",
    "\n",
    "print(get_completeness(1 - y_true, 1 - cnn_pred, cnn_p_cut))\n",
    "print(get_completeness(1 - y_true, 1 - morph_pred, morph_p_cut))\n",
    "print(get_completeness(1 - y_true, 1 - phot_pred, phot_p_cut))"
   ]
  },
  {
   "cell_type": "code",
   "execution_count": 11,
   "metadata": {
    "collapsed": false
   },
   "outputs": [],
   "source": [
    "def all_threshold_at_purity_of(y_true, y_pred, threshold):\n",
    "\n",
    "    thresholds = np.sort(y_pred)\n",
    "    purity = np.zeros_like(thresholds)\n",
    "\n",
    "    for i, t in enumerate(thresholds):\n",
    "        purity[i] = get_purity(y_true, y_pred, t)\n",
    "\n",
    "    purity = purity[~np.isnan(purity)]\n",
    "\n",
    "    idx = np.where(np.abs(purity - threshold) < 0.0001)[0]\n",
    "\n",
    "    return thresholds[idx], purity[idx]"
   ]
  },
  {
   "cell_type": "code",
   "execution_count": 12,
   "metadata": {
    "collapsed": false
   },
   "outputs": [
    {
     "name": "stdout",
     "output_type": "stream",
     "text": [
      "(array([ 0.60315662,  0.60369459,  0.60376087,  0.60458069,  0.60463386,\n",
      "        0.99983626,  0.99986711]), array([ 0.97004608,  0.97003841,  0.97003074,  0.97002306,  0.97001538,\n",
      "        0.96992481,  0.97      ]))\n"
     ]
    }
   ],
   "source": [
    "print(all_threshold_at_purity_of(1 - y_true, 1 - cnn_pred, 0.97))"
   ]
  },
  {
   "cell_type": "code",
   "execution_count": 13,
   "metadata": {
    "collapsed": true
   },
   "outputs": [],
   "source": [
    "cnn_p_cut = 0.60463386"
   ]
  },
  {
   "cell_type": "code",
   "execution_count": 14,
   "metadata": {
    "collapsed": false
   },
   "outputs": [
    {
     "name": "stdout",
     "output_type": "stream",
     "text": [
      "0.946960220165\n",
      "0.980985739304\n",
      "0.887915936953\n"
     ]
    }
   ],
   "source": [
    "print(get_completeness(1 - y_true, 1 - cnn_pred, cnn_p_cut))\n",
    "print(get_completeness(1 - y_true, 1 - morph_pred, morph_p_cut))\n",
    "print(get_completeness(1 - y_true, 1 - phot_pred, phot_p_cut))"
   ]
  },
  {
   "cell_type": "code",
   "execution_count": 16,
   "metadata": {
    "collapsed": false
   },
   "outputs": [
    {
     "name": "stdout",
     "output_type": "stream",
     "text": [
      "0.0242687998704\n",
      "0.0254050393606\n",
      "0.0316462999929\n"
     ]
    }
   ],
   "source": [
    "print(calibration_error(y_true, cnn_pred, 1000))\n",
    "print(calibration_error(y_true, morph_pred, 1000))\n",
    "print(calibration_error(y_true, phot_pred, 1000))"
   ]
  },
  {
   "cell_type": "code",
   "execution_count": 12,
   "metadata": {
    "collapsed": false
   },
   "outputs": [
    {
     "name": "stdout",
     "output_type": "stream",
     "text": [
      "0.0156652093991\n",
      "-0.00441581386894\n",
      "-0.0160085703899\n"
     ]
    }
   ],
   "source": [
    "print(((cnn_true == 1).sum() - (cnn_pred).sum()) / (cnn_true == 1).sum())\n",
    "print(((morph_true == 1).sum() - (morph_pred).sum()) / (morph_true == 1).sum())\n",
    "print(((phot_true == 1).sum() - (phot_pred).sum()) / (phot_true == 1).sum())"
   ]
  },
  {
   "cell_type": "code",
   "execution_count": 13,
   "metadata": {
    "collapsed": false
   },
   "outputs": [
    {
     "name": "stdout",
     "output_type": "stream",
     "text": [
      "Done. N = 3514, k = 36, area: 0.684, alpha: 0.0090, beta: 0.0125\n",
      "Done. N = 187, k = 26, area: 0.683, alpha: 0.1193, beta: 0.1706\n",
      "Done. N = 104, k = 16, area: 0.683, alpha: 0.1258, beta: 0.1971\n",
      "Done. N = 102, k = 40, area: 0.682, alpha: 0.3560, beta: 0.4550\n",
      "Done. N = 80, k = 41, area: 0.682, alpha: 0.4653, beta: 0.5769\n",
      "Done. N = 116, k = 76, area: 0.684, alpha: 0.6144, beta: 0.7026\n",
      "Done. N = 137, k = 111, area: 0.683, alpha: 0.7782, beta: 0.8453\n",
      "Done. N = 237, k = 210, area: 0.684, alpha: 0.8667, beta: 0.9084\n",
      "Done. N = 470, k = 441, area: 0.684, alpha: 0.9293, beta: 0.9527\n",
      "Done. N = 10053, k = 10006, area: 1.000, alpha: 0.9960, beta: 1.0000\n"
     ]
    },
    {
     "name": "stderr",
     "output_type": "stream",
     "text": [
      "/usr/local/lib/python3.4/dist-packages/scipy/integrate/quadpack.py:321: IntegrationWarning: The maximum number of subdivisions (50) has been achieved.\n",
      "  If increasing the limit yields no improvement it is advised to analyze \n",
      "  the integrand in order to determine the difficulties.  If the position of a \n",
      "  local difficulty can be determined (singularity, discontinuity) one will \n",
      "  probably gain from splitting up the interval and calling the integrator \n",
      "  on the subranges.  Perhaps a special-purpose integrator should be used.\n",
      "  warnings.warn(msg, IntegrationWarning)\n"
     ]
    }
   ],
   "source": [
    "n_bins = 10\n",
    "p_gal_low, p_gal_med, p_gal_high = get_bayes_interval(\n",
    "    cnn_true, cnn_pred, n_bins=n_bins, step=0.005)\n",
    "p_sg_low, p_sg_med, p_sg_high = get_interval(cnn_pred, n_bins=n_bins)"
   ]
  },
  {
   "cell_type": "code",
   "execution_count": 14,
   "metadata": {
    "collapsed": false
   },
   "outputs": [
    {
     "data": {
      "image/png": "[encoded data removed]",
      "text/plain": [
       "<matplotlib.figure.Figure at 0x7eff53941b70>"
      ]
     },
     "metadata": {},
     "output_type": "display_data"
    }
   ],
   "source": [
    "import seaborn as sns\n",
    "\n",
    "sns.set(style=\"ticks\", font_scale=1.5, color_codes=True)\n",
    "\n",
    "fig, ax = plt.subplots()\n",
    "\n",
    "sns.despine(trim=True, offset=10)\n",
    "\n",
    "ax.errorbar(\n",
    "    p_sg_med, p_gal_med, color=\"#4CB391\",\n",
    "    xerr=[p_sg_med - p_sg_low, p_sg_high - p_sg_med],\n",
    "    yerr=[p_gal_med - p_gal_low, p_gal_high - p_gal_med]\n",
    ")\n",
    "ax.plot((0, 1), (0, 1), ls=\"--\", color=\"#000000\", alpha=0.4, linewidth=1)\n",
    "ax.set_xlabel(r'$P_{\\mathrm{conv}}$')\n",
    "ax.set_ylabel(r'$P_{\\mathrm{gal}}$')\n",
    "\n",
    "plt.savefig('figures/sdss_calibration_conv.pdf', bbox_inches='tight')"
   ]
  },
  {
   "cell_type": "code",
   "execution_count": 15,
   "metadata": {
    "collapsed": false
   },
   "outputs": [
    {
     "name": "stdout",
     "output_type": "stream",
     "text": [
      "Done. N = 1132, k = 24, area: 0.683, alpha: 0.0180, beta: 0.0268\n",
      "Done. N = 21, k = 8, area: 0.683, alpha: 0.3040, beta: 0.5120\n",
      "Done. N = 22, k = 8, area: 0.683, alpha: 0.2800, beta: 0.4780\n",
      "Done. N = 15, k = 5, area: 0.683, alpha: 0.2300, beta: 0.4600\n",
      "Done. N = 15, k = 7, area: 0.684, alpha: 0.3635, beta: 0.6086\n",
      "Done. N = 14, k = 7, area: 0.682, alpha: 0.3800, beta: 0.6300\n",
      "Done. N = 13, k = 8, area: 0.684, alpha: 0.5056, beta: 0.7620\n",
      "Done. N = 17, k = 11, area: 0.683, alpha: 0.5300, beta: 0.7500\n",
      "Done. N = 30, k = 21, area: 0.683, alpha: 0.6320, beta: 0.8000\n",
      "Done. N = 10977, k = 10895, area: 1.000, alpha: 0.9900, beta: 1.0000\n"
     ]
    }
   ],
   "source": [
    "n_bins = 10\n",
    "p_tpc_gal_low, p_tpc_gal_med, p_tpc_gal_high = get_bayes_interval(\n",
    "    morph_true, morph_pred,\n",
    "    n_bins=n_bins, step=0.01\n",
    ")\n",
    "p_tpc_sg_low, p_tpc_sg_med, p_tpc_sg_high = get_interval(morph_pred, n_bins=n_bins)"
   ]
  },
  {
   "cell_type": "code",
   "execution_count": 16,
   "metadata": {
    "collapsed": false
   },
   "outputs": [
    {
     "data": {
      "image/png": "[encoded data removed]",
      "text/plain": [
       "<matplotlib.figure.Figure at 0x7eff198e86a0>"
      ]
     },
     "metadata": {},
     "output_type": "display_data"
    }
   ],
   "source": [
    "import seaborn as sns\n",
    "\n",
    "sns.set(style=\"ticks\", font_scale=1.5, color_codes=True)\n",
    "\n",
    "fig, ax = plt.subplots()\n",
    "\n",
    "sns.despine(trim=True, offset=10)\n",
    "\n",
    "ax.errorbar(\n",
    "    p_tpc_sg_med, p_tpc_gal_med, color=\"#4CB391\",\n",
    "    xerr=[p_tpc_sg_med - p_tpc_sg_low, p_tpc_sg_high - p_tpc_sg_med],\n",
    "    yerr=[p_tpc_gal_med - p_tpc_gal_low, p_tpc_gal_high - p_tpc_gal_med]\n",
    ")\n",
    "ax.plot((0, 1), (0, 1), ls=\"--\", color=\"#000000\", alpha=0.4, linewidth=1)\n",
    "ax.set_xlabel(r'$P_{\\mathrm{tpc}}$')\n",
    "ax.set_ylabel(r'$P_{\\mathrm{gal}}$')\n",
    "\n",
    "plt.savefig('figures/sdss_calibration_tpc.pdf', bbox_inches='tight')"
   ]
  }
 ],
 "metadata": {
  "kernelspec": {
   "display_name": "Python 3",
   "language": "python",
   "name": "python3"
  },
  "language_info": {
   "codemirror_mode": {
    "name": "ipython",
    "version": 3
   },
   "file_extension": ".py",
   "mimetype": "text/x-python",
   "name": "python",
   "nbconvert_exporter": "python",
   "pygments_lexer": "ipython3",
   "version": "3.4.0"
  }
 },
 "nbformat": 4,
 "nbformat_minor": 0
}
