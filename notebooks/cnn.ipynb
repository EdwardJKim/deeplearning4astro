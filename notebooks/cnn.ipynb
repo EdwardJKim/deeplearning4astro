{
 "cells": [
  {
   "cell_type": "code",
   "execution_count": 1,
   "metadata": {
    "collapsed": false
   },
   "outputs": [
    {
     "name": "stdout",
     "output_type": "stream",
     "text": [
      "Writing /home/02735/edwardk/.theanorc\n"
     ]
    }
   ],
   "source": [
    "%%writefile ~/.theanorc\n",
    "[global]\n",
    "device=gpu\n",
    "floatX=float32\n",
    "\n",
    "[blas]\n",
    "ldflags=-lopenblas\n",
    "\n",
    "[cuda]\n",
    "root=/opt/apps/cuda/7.0\n",
    "\n",
    "[nvcc]\n",
    "fastmath=True"
   ]
  },
  {
   "cell_type": "code",
   "execution_count": 3,
   "metadata": {
    "collapsed": false
   },
   "outputs": [],
   "source": [
    "%matplotlib inline"
   ]
  },
  {
   "cell_type": "code",
   "execution_count": 4,
   "metadata": {
    "collapsed": false
   },
   "outputs": [],
   "source": [
    "from __future__ import absolute_import\n",
    "from __future__ import division\n",
    "from __future__ import print_function\n",
    "from __future__ import unicode_literals\n",
    "\n",
    "import os\n",
    "import sys\n",
    "import time\n",
    "import cPickle as pickle\n",
    "\n",
    "import numpy as np\n",
    "import pandas as pd\n",
    "import matplotlib.pyplot as plt\n",
    "\n",
    "import theano\n",
    "import theano.tensor as T\n",
    "\n",
    "import lasagne\n",
    "from lasagne import layers\n",
    "from lasagne.updates import nesterov_momentum\n",
    "from lasagne.objectives import squared_error, categorical_crossentropy\n",
    "from lasagne.nonlinearities import softmax\n",
    "from nolearn.lasagne import NeuralNet\n",
    "from nolearn.lasagne import BatchIterator"
   ]
  },
  {
   "cell_type": "code",
   "execution_count": 5,
   "metadata": {
    "collapsed": false
   },
   "outputs": [
    {
     "name": "stdout",
     "output_type": "stream",
     "text": [
      "X.shape = (100, 5, 48, 48), X.min = 15.2576580048, X.max = 25.4738693237\n",
      "y.shape = (100,), y.min = -1.0, y.max = 1.0\n"
     ]
    }
   ],
   "source": [
    "X = np.load(\"/work/02735/edwardk/classify/data/training_images.npy\", mmap_mode=\"r\")\n",
    "print(\"X.shape = {}, X.min = {}, X.max = {}\".format(X.shape, X.min(), X.max()))\n",
    "\n",
    "y = np.load(\"/work/02735/edwardk/classify/data/training_labels.npy\")\n",
    "print(\"y.shape = {}, y.min = {}, y.max = {}\".format(y.shape, y.min(), y.max()))"
   ]
  },
  {
   "cell_type": "code",
   "execution_count": 6,
   "metadata": {
    "collapsed": false
   },
   "outputs": [
    {
     "name": "stdout",
     "output_type": "stream",
     "text": [
      "X.shape = (100, 5, 48, 48), X.min = 0.0, X.max = 1.0\n",
      "y.shape = (100,), y.min = 0.0, y.max = 1.0\n"
     ]
    }
   ],
   "source": [
    "def renormalize(array):\n",
    "    return (array - array.min()) / (array.max() - array.min())\n",
    "\n",
    "X, y = map(renormalize, (X, y))\n",
    "\n",
    "print(\"X.shape = {}, X.min = {}, X.max = {}\".format(X.shape, X.min(), X.max()))\n",
    "print(\"y.shape = {}, y.min = {}, y.max = {}\".format(y.shape, y.min(), y.max()))"
   ]
  },
  {
   "cell_type": "code",
   "execution_count": 7,
   "metadata": {
    "collapsed": false
   },
   "outputs": [],
   "source": [
    "def compute_PCA(array):\n",
    "\n",
    "    nimages0, nchannels0, height0, width0 = array.shape\n",
    "    rolled = np.transpose(array, (0, 2, 3, 1))\n",
    "    # transpose from N x channels x height x width  to  N x height x width x channels\n",
    "    nimages1, height1, width1, nchannels1 = rolled.shape\n",
    "    # check shapes\n",
    "    assert nimages0 == nimages1\n",
    "    assert nchannels0 == nchannels1\n",
    "    assert height0 == height1\n",
    "    assert width0 == width1\n",
    "    # flatten\n",
    "    reshaped = rolled.reshape(nimages1 * height1 * width1, nchannels1)\n",
    "    \n",
    "    from sklearn.decomposition import PCA\n",
    "    \n",
    "    pca = PCA()\n",
    "    pca.fit(reshaped)\n",
    "    \n",
    "    cov = pca.get_covariance()\n",
    "    \n",
    "    eigenvalues, eigenvectors = np.linalg.eig(cov)\n",
    "    \n",
    "    return eigenvalues, eigenvectors"
   ]
  },
  {
   "cell_type": "code",
   "execution_count": 8,
   "metadata": {
    "collapsed": true
   },
   "outputs": [],
   "source": [
    "class AugmentedBatchIterator(BatchIterator):\n",
    "    \n",
    "    def __init__(self, batch_size, crop_size=8):\n",
    "        super(AugmentedBatchIterator, self).__init__(batch_size)\n",
    "        self.crop_size = crop_size\n",
    "\n",
    "    def transform(self, Xb, yb):\n",
    "\n",
    "        Xb, yb = super(AugmentedBatchIterator, self).transform(Xb, yb)\n",
    "        batch_size, nchannels, width, height = Xb.shape\n",
    "        \n",
    "        eigenvalues, eigenvectors = compute_PCA(Xb)\n",
    "\n",
    "        # Flip half of the images horizontally at random\n",
    "        indices = np.random.choice(batch_size, batch_size // 2, replace=False)        \n",
    "        Xb[indices] = Xb[indices, :, :, ::-1]\n",
    "\n",
    "        # Crop images\n",
    "        X_new = np.zeros(\n",
    "            (batch_size, nchannels, width - self.crop_size, height - self.crop_size),\n",
    "            dtype=np.float32\n",
    "        )\n",
    "        if yb is not None:\n",
    "            y_new = yb.astype(np.int32)\n",
    "        else:\n",
    "            y_new = None\n",
    "\n",
    "        for i in range(batch_size):\n",
    "            # Choose x, y pixel posiitions at random\n",
    "            px, py = np.random.choice(self.crop_size, size=2)\n",
    "                \n",
    "            sx = slice(px, px + width - self.crop_size)\n",
    "            sy = slice(py, py + height - self.crop_size)\n",
    "            \n",
    "            # Rotate 0, 90, 180, or 270 degrees at random\n",
    "            nrotate = np.random.choice(4)\n",
    "            \n",
    "            # add random color perturbation\n",
    "            alpha = np.random.normal(loc=0.0, scale=0.5, size=5)\n",
    "            noise = np.dot(eigenvectors, np.transpose(alpha * eigenvalues))\n",
    "            \n",
    "            for j in range(nchannels):\n",
    "                X_new[i, j] = np.rot90(Xb[i, j, sx, sy] + noise[j], k=nrotate)\n",
    "                \n",
    "        return X_new, y_new"
   ]
  },
  {
   "cell_type": "code",
   "execution_count": 9,
   "metadata": {
    "collapsed": true
   },
   "outputs": [],
   "source": [
    "class SaveParams(object):\n",
    "    def __init__(self, name):\n",
    "        self.name = name\n",
    "\n",
    "    def __call__(self, nn, train_history):\n",
    "        if train_history[-1][\"valid_loss_best\"]:\n",
    "            nn.save_params_to(\"{}.params\".format(self.name))\n",
    "            with open(\"{}.history\".format(self.name), \"w\") as f:\n",
    "                pickle.dump(train_history, f)"
   ]
  },
  {
   "cell_type": "markdown",
   "metadata": {},
   "source": [
    "We set the `verbose` parameter to `2`.\n",
    "\n",
    "# 4 dropout layer"
   ]
  },
  {
   "cell_type": "code",
   "execution_count": 12,
   "metadata": {
    "collapsed": false
   },
   "outputs": [],
   "source": [
    "net39 = NeuralNet(\n",
    "    layers=[\n",
    "        ('input', layers.InputLayer),\n",
    "\n",
    "        ('conv11', layers.Conv2DLayer),\n",
    "        ('pool1', layers.MaxPool2DLayer),\n",
    "        ('dropout1', layers.DropoutLayer),\n",
    "\n",
    "        ('conv21', layers.Conv2DLayer),\n",
    "        ('pool2', layers.MaxPool2DLayer),\n",
    "        ('dropout2', layers.DropoutLayer),\n",
    "\n",
    "        ('conv31', layers.Conv2DLayer),\n",
    "        ('pool3', layers.MaxPool2DLayer),\n",
    "        ('dropout3', layers.DropoutLayer),\n",
    "\n",
    "        ('hidden4', layers.DenseLayer),\n",
    "        ('dropout4', layers.DropoutLayer),\n",
    "        \n",
    "        ('hidden5', layers.DenseLayer),\n",
    "\n",
    "        ('output', layers.DenseLayer),\n",
    "        ],\n",
    "    input_shape=(None, 5, 40, 40),\n",
    "    \n",
    "    conv11_num_filters=32, conv11_filter_size=(5, 5), \n",
    "    pool1_pool_size=(2, 2),\n",
    "    dropout1_p=0.1,\n",
    "\n",
    "    conv21_num_filters=64, conv21_filter_size=(3, 3),\n",
    "    pool2_pool_size=(2, 2),\n",
    "    dropout2_p=0.2,\n",
    "\n",
    "    conv31_num_filters=128, conv31_filter_size=(3, 3),\n",
    "    pool3_pool_size=(2, 2),\n",
    "    dropout3_p=0.4,\n",
    "\n",
    "    hidden4_num_units=2048,\n",
    "    \n",
    "    dropout4_p=0.5,\n",
    "    hidden5_num_units=2048,\n",
    "\n",
    "    output_num_units=2,\n",
    "    output_nonlinearity=softmax,\n",
    "\n",
    "    update_learning_rate=0.0001,\n",
    "    update_momentum=0.9,\n",
    "\n",
    "    objective_loss_function=categorical_crossentropy,\n",
    "    regression=False,\n",
    "    max_epochs=3000,\n",
    "    batch_iterator_train=AugmentedBatchIterator(batch_size=128, crop_size=8),\n",
    "    batch_iterator_test=AugmentedBatchIterator(batch_size=128, crop_size=8),\n",
    "\n",
    "    on_epoch_finished=[SaveParams(\"net39\")],\n",
    "\n",
    "    verbose=2,\n",
    "    )"
   ]
  },
  {
   "cell_type": "code",
   "execution_count": 13,
   "metadata": {
    "collapsed": false
   },
   "outputs": [
    {
     "name": "stdout",
     "output_type": "stream",
     "text": [
      "# Neural Network with 6658178 learnable parameters\n",
      "\n",
      "## Layer information\n",
      "\n",
      "name      size        total    cap.Y    cap.X    cov.Y    cov.X\n",
      "--------  --------  -------  -------  -------  -------  -------\n",
      "input     5x40x40      8000   100.00   100.00   100.00   100.00\n",
      "conv11    32x36x36    41472   100.00   100.00    12.50    12.50\n",
      "pool1     32x18x18    10368   100.00   100.00    12.50    12.50\n",
      "dropout1  32x18x18    10368   100.00   100.00   100.00   100.00\n",
      "conv21    64x16x16    16384   100.00   100.00   100.00   100.00\n",
      "pool2     64x8x8       4096   100.00   100.00   100.00   100.00\n",
      "dropout2  64x8x8       4096   100.00   100.00   100.00   100.00\n",
      "conv31    128x6x6      4608   100.00   100.00   100.00   100.00\n",
      "pool3     128x3x3      1152   100.00   100.00   100.00   100.00\n",
      "dropout3  128x3x3      1152   100.00   100.00   100.00   100.00\n",
      "hidden4   2048         2048   100.00   100.00   100.00   100.00\n",
      "dropout4  2048         2048   100.00   100.00   100.00   100.00\n",
      "hidden5   2048         2048   100.00   100.00   100.00   100.00\n",
      "output    2               2   100.00   100.00   100.00   100.00\n",
      "\n",
      "Explanation\n",
      "    X, Y:    image dimensions\n",
      "    cap.:    learning capacity\n",
      "    cov.:    coverage of image\n",
      "    \u001b[35mmagenta\u001b[0m: capacity too low (<1/6)\n",
      "    \u001b[36mcyan\u001b[0m:    image coverage too high (>100%)\n",
      "    \u001b[31mred\u001b[0m:     capacity too low and coverage too high\n",
      "\n",
      "\n",
      "  epoch    train loss    valid loss    train/val    valid acc  dur\n",
      "-------  ------------  ------------  -----------  -----------  -----\n",
      "      1       \u001b[36m0.76739\u001b[0m       \u001b[32m0.72180\u001b[0m      1.06316      0.28571  2.90s\n"
     ]
    },
    {
     "data": {
      "text/plain": [
       "NeuralNet(X_tensor_type=None,\n",
       "     batch_iterator_test=<__main__.AugmentedBatchIterator object at 0x2b6ee53c9b90>,\n",
       "     batch_iterator_train=<__main__.AugmentedBatchIterator object at 0x2b6ec610a310>,\n",
       "     conv11_filter_size=(5, 5), conv11_num_filters=32,\n",
       "     conv21_filter_size=(3, 3), conv21_num_filters=64,\n",
       "     conv31_filter_size=(3, 3), conv31_num_filters=128, custom_score=None,\n",
       "     dropout1_p=0.1, dropout2_p=0.1, dropout3_p=0.5, dropout4_p=0.5,\n",
       "     hidden4_num_units=2048, hidden5_num_units=2048,\n",
       "     input_shape=(None, 5, 40, 40),\n",
       "     layers=[(u'input', <class 'lasagne.layers.input.InputLayer'>), (u'conv11', <class 'lasagne.layers.conv.Conv2DLayer'>), (u'pool1', <class 'lasagne.layers.pool.MaxPool2DLayer'>), (u'dropout1', <class 'lasagne.layers.noise.DropoutLayer'>), (u'conv21', <class 'lasagne.layers.conv.Conv2DLayer'>), (u'pool... <class 'lasagne.layers.dense.DenseLayer'>), (u'output', <class 'lasagne.layers.dense.DenseLayer'>)],\n",
       "     loss=None, max_epochs=3000, more_params={},\n",
       "     objective=<function objective at 0x2b6ee441a0c8>,\n",
       "     objective_loss_function=<function categorical_crossentropy at 0x2b6ee2d310c8>,\n",
       "     on_batch_finished=[],\n",
       "     on_epoch_finished=[<__main__.SaveParams object at 0x2b6ee53c9bd0>, <nolearn.lasagne.handlers.PrintLog instance at 0x2b6ee592ff80>],\n",
       "     on_training_finished=[],\n",
       "     on_training_started=[<nolearn.lasagne.handlers.PrintLayerInfo instance at 0x2b6ee592f878>],\n",
       "     output_nonlinearity=<function softmax at 0x2b6ee1cd4848>,\n",
       "     output_num_units=2, pool1_pool_size=(2, 2), pool2_pool_size=(2, 2),\n",
       "     pool3_pool_size=(2, 2), regression=False,\n",
       "     train_split=<nolearn.lasagne.base.TrainSplit object at 0x2b6ee441b110>,\n",
       "     update=<function nesterov_momentum at 0x2b6ee2d319b0>,\n",
       "     update_learning_rate=0.0001, update_momentum=0.9,\n",
       "     use_label_encoder=False, verbose=2,\n",
       "     y_tensor_type=TensorType(int32, vector))"
      ]
     },
     "execution_count": 13,
     "metadata": {},
     "output_type": "execute_result"
    }
   ],
   "source": [
    "net39.fit(X, y)"
   ]
  },
  {
   "cell_type": "code",
   "execution_count": 14,
   "metadata": {
    "collapsed": false
   },
   "outputs": [
    {
     "name": "stdout",
     "output_type": "stream",
     "text": [
      "Best valid loss: 0.721799951262\n"
     ]
    }
   ],
   "source": [
    "best_valid_loss = min([row['valid_loss'] for row in net39.train_history_])\n",
    "print(\"Best valid loss: {}\".format(best_valid_loss))"
   ]
  },
  {
   "cell_type": "code",
   "execution_count": 15,
   "metadata": {
    "collapsed": false
   },
   "outputs": [],
   "source": [
    "net39.save_params_to(\"net39.params\")\n",
    "\n",
    "import cPickle as pickle\n",
    "with open(\"net39.history\", \"wb\") as f:\n",
    "    pickle.dump(net39.train_history_, f, -1)"
   ]
  },
  {
   "cell_type": "code",
   "execution_count": 16,
   "metadata": {
    "collapsed": true
   },
   "outputs": [],
   "source": [
    "def plot_loss(net):\n",
    "    train_loss = [row['train_loss'] for row in net.train_history_]\n",
    "    valid_loss = [row['valid_loss'] for row in net.train_history_]\n",
    "    plt.semilogy(train_loss, label='train loss')\n",
    "    plt.semilogy(valid_loss, label='valid loss')\n",
    "    plt.xlabel('epoch')\n",
    "    plt.ylabel('loss')\n",
    "    plt.legend(loc='best')"
   ]
  },
  {
   "cell_type": "code",
   "execution_count": 17,
   "metadata": {
    "collapsed": false
   },
   "outputs": [
    {
     "data": {
      "image/png": "[encoded data removed]",
      "text/plain": [
       "<matplotlib.figure.Figure at 0x2b6ef8e79350>"
      ]
     },
     "metadata": {},
     "output_type": "display_data"
    }
   ],
   "source": [
    "plot_loss(net39)"
   ]
  },
  {
   "cell_type": "code",
   "execution_count": 18,
   "metadata": {
    "collapsed": false
   },
   "outputs": [
    {
     "name": "stdout",
     "output_type": "stream",
     "text": [
      "0.426091269841\n"
     ]
    }
   ],
   "source": [
    "from sklearn.metrics import roc_auc_score\n",
    "print(roc_auc_score(y, net39.predict_proba(X)[:, 0]))"
   ]
  },
  {
   "cell_type": "code",
   "execution_count": null,
   "metadata": {
    "collapsed": true
   },
   "outputs": [],
   "source": []
  }
 ],
 "metadata": {
  "kernelspec": {
   "display_name": "Python 2",
   "language": "python",
   "name": "python2"
  },
  "language_info": {
   "codemirror_mode": {
    "name": "ipython",
    "version": 2
   },
   "file_extension": ".py",
   "mimetype": "text/x-python",
   "name": "python",
   "nbconvert_exporter": "python",
   "pygments_lexer": "ipython2",
   "version": "2.7.9"
  }
 },
 "nbformat": 4,
 "nbformat_minor": 0
}
