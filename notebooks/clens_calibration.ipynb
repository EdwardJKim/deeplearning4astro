{
 "cells": [
  {
   "cell_type": "code",
   "execution_count": 1,
   "metadata": {
    "collapsed": true
   },
   "outputs": [],
   "source": [
    "%matplotlib inline"
   ]
  },
  {
   "cell_type": "code",
   "execution_count": 2,
   "metadata": {
    "collapsed": true
   },
   "outputs": [],
   "source": [
    "from __future__ import print_function, division\n",
    "import numpy as np\n",
    "import scipy as sp\n",
    "import pandas as pd\n",
    "import matplotlib.pyplot as plt\n",
    "\n",
    "from utils.metrics import (\n",
    "    threshold_at_completeness_of,\n",
    "    threshold_at_purity_of,\n",
    "    get_purity,\n",
    "    get_completeness,\n",
    "    bayes_conf,\n",
    "    get_interval,\n",
    "    get_bayes_interval,\n",
    "    calibration_error\n",
    "    )"
   ]
  },
  {
   "cell_type": "code",
   "execution_count": 3,
   "metadata": {
    "collapsed": false
   },
   "outputs": [],
   "source": [
    "cnn_true = np.load(\"clens_test_labels.npy\")\n",
    "y_true = 1.0 - cnn_true # make star = 0 and galaxy = 1"
   ]
  },
  {
   "cell_type": "code",
   "execution_count": 4,
   "metadata": {
    "collapsed": false
   },
   "outputs": [],
   "source": [
    "cnn_pred = np.load(\"clens_convnet_pred.npy\")\n",
    "cnn_pred = 1.0 - cnn_pred # make star = 0 and galaxy = 1"
   ]
  },
  {
   "cell_type": "code",
   "execution_count": 5,
   "metadata": {
    "collapsed": false
   },
   "outputs": [],
   "source": [
    "phot = pd.read_csv('clens_tpc.0.mlz', sep=' ', skiprows=1, usecols=(0, 2), names=('true', 'pred'))\n",
    "phot_pred = 1.0 - phot.pred.values # make galaxy=0 and star=1"
   ]
  },
  {
   "cell_type": "code",
   "execution_count": 6,
   "metadata": {
    "collapsed": false
   },
   "outputs": [],
   "source": [
    "morph = pd.read_csv('clens_tpc.1.mlz', sep=' ', skiprows=1, usecols=(0, 2), names=('true', 'pred'))\n",
    "morph_pred = 1.0 - morph.pred.values # make galaxy=0 and star=1"
   ]
  },
  {
   "cell_type": "code",
   "execution_count": 7,
   "metadata": {
    "collapsed": true
   },
   "outputs": [],
   "source": [
    "df = pd.read_csv(\"clens_test.csv\")\n",
    "y_fields = [\n",
    "    'W1m0m4', 'W1m1m4', 'W1m2m4', 'W1m3m4', 'W1m4m4',\n",
    "    'W1p1m4', 'W1p1p1', 'W1p2m4', 'W1p3m4', 'W1p3p1',\n",
    "    'W1p4m4', 'W3m0m1', 'W3m2m1', 'W3m2p1', 'W3p2m3',\n",
    "    'W4m1p1', 'W4m1p2', 'W4m1p3', 'W4m2p2', 'W4m2p3',\n",
    "    'W4m3p3'\n",
    "    ]\n",
    "mag_i = df[\"MAG_i\"].values\n",
    "mask = (df[\"field\"].isin(y_fields).values)\n",
    "mag_i[mask] = df[mask][\"MAG_y\"].values"
   ]
  },
  {
   "cell_type": "code",
   "execution_count": 8,
   "metadata": {
    "collapsed": false
   },
   "outputs": [],
   "source": [
    "mask = ((mag_i > -90) & (mag_i < 90))\n",
    "mag_i, y_true, cnn_pred, phot_pred, morph_pred = map(\n",
    "    lambda x: x[mask],\n",
    "    [mag_i, y_true, cnn_pred, phot_pred, morph_pred]\n",
    ")"
   ]
  },
  {
   "cell_type": "code",
   "execution_count": 9,
   "metadata": {
    "collapsed": false
   },
   "outputs": [
    {
     "name": "stdout",
     "output_type": "stream",
     "text": [
      "Done. N = 1565, k = 15, area: 0.683, alpha: 0.0082, beta: 0.0152\n",
      "Done. N = 162, k = 17, area: 0.683, alpha: 0.0891, beta: 0.1398\n",
      "Done. N = 78, k = 21, area: 0.684, alpha: 0.2281, beta: 0.3287\n",
      "Done. N = 66, k = 20, area: 0.684, alpha: 0.2611, beta: 0.3762\n",
      "Done. N = 41, k = 19, area: 0.684, alpha: 0.4032, beta: 0.5596\n",
      "Done. N = 46, k = 21, area: 0.684, alpha: 0.4000, beta: 0.5480\n",
      "Done. N = 36, k = 20, area: 0.683, alpha: 0.4874, beta: 0.6515\n",
      "Done. N = 70, k = 51, area: 0.683, alpha: 0.6758, beta: 0.7810\n",
      "Done. N = 117, k = 95, area: 0.682, alpha: 0.7834, beta: 0.8585\n",
      "Done. N = 13121, k = 13070, area: 1.000, alpha: 0.9900, beta: 1.0000\n"
     ]
    },
    {
     "name": "stderr",
     "output_type": "stream",
     "text": [
      "/usr/local/lib/python3.4/dist-packages/scipy/integrate/quadpack.py:321: IntegrationWarning: The maximum number of subdivisions (50) has been achieved.\n",
      "  If increasing the limit yields no improvement it is advised to analyze \n",
      "  the integrand in order to determine the difficulties.  If the position of a \n",
      "  local difficulty can be determined (singularity, discontinuity) one will \n",
      "  probably gain from splitting up the interval and calling the integrator \n",
      "  on the subranges.  Perhaps a special-purpose integrator should be used.\n",
      "  warnings.warn(msg, IntegrationWarning)\n"
     ]
    }
   ],
   "source": [
    "n_bins = 10\n",
    "p_gal_low, p_gal_med, p_gal_high = get_bayes_interval(y_true, cnn_pred, n_bins=n_bins, step=0.01)\n",
    "p_sg_low, p_sg_med, p_sg_high = get_interval(cnn_pred, n_bins=n_bins)"
   ]
  },
  {
   "cell_type": "code",
   "execution_count": 10,
   "metadata": {
    "collapsed": false
   },
   "outputs": [
    {
     "data": {
      "image/png": "[encoded data removed]",
      "text/plain": [
       "<matplotlib.figure.Figure at 0x7f3e8a35add8>"
      ]
     },
     "metadata": {},
     "output_type": "display_data"
    }
   ],
   "source": [
    "import seaborn as sns\n",
    "\n",
    "sns.set(style=\"ticks\", font_scale=1.5, color_codes=True)\n",
    "\n",
    "fig, ax = plt.subplots()\n",
    "\n",
    "sns.despine(trim=True, offset=10)\n",
    "\n",
    "ax.errorbar(\n",
    "    p_sg_med, p_gal_med, color=\"#4CB391\",\n",
    "    xerr=[p_sg_med - p_sg_low, p_sg_high - p_sg_med],\n",
    "    yerr=[p_gal_med - p_gal_low, p_gal_high - p_gal_med]\n",
    ")\n",
    "ax.plot((0, 1), (0, 1), ls=\"--\", color=\"#000000\", alpha=0.4, linewidth=1)\n",
    "ax.set_xlabel(r'$P_{\\mathrm{conv}}$')\n",
    "ax.set_ylabel(r'$P_{\\mathrm{gal}}$')\n",
    "\n",
    "plt.savefig('figures/clens_calibration_conv.pdf', bbox_inches='tight')"
   ]
  },
  {
   "cell_type": "code",
   "execution_count": 11,
   "metadata": {
    "collapsed": false
   },
   "outputs": [
    {
     "name": "stdout",
     "output_type": "stream",
     "text": [
      "Done. N = 908, k = 23, area: 0.682, alpha: 0.0214, beta: 0.0321\n",
      "Done. N = 46, k = 13, area: 0.684, alpha: 0.2355, beta: 0.3706\n",
      "Done. N = 32, k = 11, area: 0.683, alpha: 0.2765, beta: 0.4416\n",
      "Done. N = 15, k = 5, area: 0.683, alpha: 0.2300, beta: 0.4600\n",
      "Done. N = 22, k = 5, area: 0.683, alpha: 0.1680, beta: 0.3460\n",
      "Done. N = 23, k = 10, area: 0.682, alpha: 0.3500, beta: 0.5500\n",
      "Done. N = 26, k = 19, area: 0.684, alpha: 0.6500, beta: 0.8200\n",
      "Done. N = 30, k = 14, area: 0.683, alpha: 0.3776, beta: 0.5540\n",
      "Done. N = 65, k = 42, area: 0.684, alpha: 0.5920, beta: 0.7100\n",
      "Done. N = 13290, k = 13207, area: 1.000, alpha: 0.9900, beta: 1.0000\n"
     ]
    }
   ],
   "source": [
    "n_bins = 10\n",
    "p_tpc_gal_low, p_tpc_gal_med, p_tpc_gal_high = get_bayes_interval(\n",
    "    y_true, morph_pred,\n",
    "    n_bins=n_bins, step=0.01\n",
    ")\n",
    "p_tpc_sg_low, p_tpc_sg_med, p_tpc_sg_high = get_interval(morph_pred, n_bins=n_bins)"
   ]
  },
  {
   "cell_type": "code",
   "execution_count": 12,
   "metadata": {
    "collapsed": false
   },
   "outputs": [
    {
     "data": {
      "image/png": "[encoded data removed]",
      "text/plain": [
       "<matplotlib.figure.Figure at 0x7f3e822df710>"
      ]
     },
     "metadata": {},
     "output_type": "display_data"
    }
   ],
   "source": [
    "import seaborn as sns\n",
    "\n",
    "sns.set(style=\"ticks\", font_scale=1.5, color_codes=True)\n",
    "\n",
    "fig, ax = plt.subplots()\n",
    "\n",
    "sns.despine(trim=True, offset=10)\n",
    "\n",
    "ax.errorbar(\n",
    "    p_tpc_sg_med, p_tpc_gal_med, color=\"#4CB391\",\n",
    "    xerr=[p_tpc_sg_med - p_tpc_sg_low, p_tpc_sg_high - p_tpc_sg_med],\n",
    "    yerr=[p_tpc_gal_med - p_tpc_gal_low, p_tpc_gal_high - p_tpc_gal_med]\n",
    ")\n",
    "ax.plot((0, 1), (0, 1), ls=\"--\", color=\"#000000\", alpha=0.4, linewidth=1)\n",
    "ax.set_xlabel(r'$P_{\\mathrm{tpc}}$')\n",
    "ax.set_ylabel(r'$P_{\\mathrm{gal}}$')\n",
    "\n",
    "plt.savefig('figures/clens_calibration_tpc.pdf', bbox_inches='tight')"
   ]
  },
  {
   "cell_type": "code",
   "execution_count": 13,
   "metadata": {
    "collapsed": false
   },
   "outputs": [
    {
     "name": "stdout",
     "output_type": "stream",
     "text": [
      "0.994772003111\n",
      "0.992362871475\n",
      "0.987613152856\n"
     ]
    }
   ],
   "source": [
    "from sklearn.metrics import roc_auc_score\n",
    "print(roc_auc_score(y_true, cnn_pred))\n",
    "print(roc_auc_score(y_true, morph_pred))\n",
    "print(roc_auc_score(y_true, phot_pred))"
   ]
  },
  {
   "cell_type": "code",
   "execution_count": 14,
   "metadata": {
    "collapsed": false
   },
   "outputs": [
    {
     "name": "stdout",
     "output_type": "stream",
     "text": [
      "0.0112067331932\n",
      "0.0108846290027\n",
      "0.0189261973971\n"
     ]
    }
   ],
   "source": [
    "from sklearn.metrics import mean_squared_error\n",
    "print(mean_squared_error(y_true, cnn_pred))\n",
    "print(mean_squared_error(y_true, morph_pred))\n",
    "print(mean_squared_error(y_true, phot_pred))"
   ]
  },
  {
   "cell_type": "code",
   "execution_count": 15,
   "metadata": {
    "collapsed": false
   },
   "outputs": [
    {
     "name": "stdout",
     "output_type": "stream",
     "text": [
      "0.997198661583\n",
      "0.996345540782\n",
      "0.992717694453\n"
     ]
    }
   ],
   "source": [
    "cnn_p_cut, _ = threshold_at_completeness_of(y_true, cnn_pred, 0.96)\n",
    "morph_p_cut, _ = threshold_at_completeness_of(y_true, morph_pred, 0.96)\n",
    "phot_p_cut, _ = threshold_at_completeness_of(y_true, phot_pred, 0.96)\n",
    "\n",
    "print(get_purity(y_true, cnn_pred, cnn_p_cut))\n",
    "print(get_purity(y_true, morph_pred, morph_p_cut))\n",
    "print(get_purity(y_true, phot_pred, phot_p_cut))"
   ]
  },
  {
   "cell_type": "code",
   "execution_count": 16,
   "metadata": {
    "collapsed": false
   },
   "outputs": [
    {
     "name": "stdout",
     "output_type": "stream",
     "text": [
      "0.89708141321\n",
      "0.926779313876\n",
      "0.804403481823\n"
     ]
    }
   ],
   "source": [
    "cnn_p_cut, _ = threshold_at_purity_of(1 - y_true, 1 - cnn_pred, 0.97)\n",
    "morph_p_cut, _ = threshold_at_purity_of(1 - y_true, 1 - morph_pred, 0.97)\n",
    "phot_p_cut, _ = threshold_at_purity_of(1 - y_true, 1 - phot_pred, 0.97)\n",
    "\n",
    "print(get_completeness(1 - y_true, 1 - cnn_pred, cnn_p_cut))\n",
    "print(get_completeness(1 - y_true, 1- morph_pred, morph_p_cut))\n",
    "print(get_completeness(1 - y_true, 1 - phot_pred, phot_p_cut))"
   ]
  },
  {
   "cell_type": "code",
   "execution_count": 18,
   "metadata": {
    "collapsed": false
   },
   "outputs": [
    {
     "name": "stdout",
     "output_type": "stream",
     "text": [
      "0.0197359178002\n",
      "0.0244875952463\n",
      "0.0265535296196\n"
     ]
    }
   ],
   "source": [
    "print(calibration_error(y_true, cnn_pred, 1000))\n",
    "print(calibration_error(y_true, morph_pred, 1000))\n",
    "print(calibration_error(y_true, phot_pred, 1000))"
   ]
  },
  {
   "cell_type": "code",
   "execution_count": 17,
   "metadata": {
    "collapsed": false
   },
   "outputs": [
    {
     "name": "stdout",
     "output_type": "stream",
     "text": [
      "-0.00286683486114\n",
      "-0.00564439283841\n",
      "-0.0101491122931\n"
     ]
    }
   ],
   "source": [
    "print(((y_true == 1).sum() - cnn_pred.sum()) / (y_true == 1).sum())\n",
    "print(((y_true == 1).sum() - morph_pred.sum()) / (y_true == 1).sum())\n",
    "print(((y_true == 1).sum() - phot_pred.sum()) / (y_true == 1).sum())"
   ]
  },
  {
   "cell_type": "code",
   "execution_count": null,
   "metadata": {
    "collapsed": true
   },
   "outputs": [],
   "source": []
  }
 ],
 "metadata": {
  "kernelspec": {
   "display_name": "Python 3",
   "language": "python",
   "name": "python3"
  },
  "language_info": {
   "codemirror_mode": {
    "name": "ipython",
    "version": 3
   },
   "file_extension": ".py",
   "mimetype": "text/x-python",
   "name": "python",
   "nbconvert_exporter": "python",
   "pygments_lexer": "ipython3",
   "version": "3.4.0"
  }
 },
 "nbformat": 4,
 "nbformat_minor": 0
}
