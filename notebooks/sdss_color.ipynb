{
 "cells": [
  {
   "cell_type": "code",
   "execution_count": 2,
   "metadata": {
    "collapsed": true
   },
   "outputs": [],
   "source": [
    "from __future__ import division, print_function, unicode_literals\n",
    "%matplotlib inline\n",
    "import numpy as np\n",
    "import pandas as pd\n",
    "import matplotlib.pyplot as plt\n",
    "import seaborn as sns\n",
    "from sklearn.neighbors import KernelDensity\n",
    "from sklearn.metrics import precision_recall_curve\n",
    "\n",
    "from utils.metrics import threshold_at_completeness_of, threshold_at_purity_of\n",
    "from utils.bootstrap import (\n",
    "    kde_purity,\n",
    "    kde_completeness,\n",
    "    get_stellar_fraction,\n",
    "    confidence_band,\n",
    "    get_log_density\n",
    ")\n",
    "\n",
    "plt.rc('legend', fontsize=10)"
   ]
  },
  {
   "cell_type": "code",
   "execution_count": 7,
   "metadata": {
    "collapsed": false
   },
   "outputs": [],
   "source": [
    "df = pd.read_csv(\"sdss_test.csv\")\n",
    "g_r = df[\"dered_g\"].values - df[\"dered_r\"].values"
   ]
  },
  {
   "cell_type": "code",
   "execution_count": 4,
   "metadata": {
    "collapsed": false
   },
   "outputs": [],
   "source": [
    "morph_true, morph_pred = np.loadtxt('sdss_tpc.2.mlz', unpack=True, usecols=(0, 2))"
   ]
  },
  {
   "cell_type": "code",
   "execution_count": 5,
   "metadata": {
    "collapsed": false
   },
   "outputs": [],
   "source": [
    "phot_true, phot_pred = np.loadtxt('sdss_tpc.3.mlz', unpack=True, usecols=(0, 2))"
   ]
  },
  {
   "cell_type": "code",
   "execution_count": 9,
   "metadata": {
    "collapsed": false
   },
   "outputs": [],
   "source": [
    "y_true = np.load(\"sdss_test_labels.npy\")\n",
    "cnn_pred = np.load(\"sdss_convnet_pred.npy\")\n",
    "\n",
    "y_true = (y_true + 1) / 2 # make galaxy=0 and star=1"
   ]
  },
  {
   "cell_type": "code",
   "execution_count": 10,
   "metadata": {
    "collapsed": false
   },
   "outputs": [],
   "source": [
    "mask = ((g_r > -10) & (g_r < 10))\n",
    "g_r, y_true, cnn_pred, phot_pred, morph_pred = map(\n",
    "    lambda x: x[mask],\n",
    "    [g_r, y_true, cnn_pred, phot_pred, morph_pred]\n",
    ")"
   ]
  },
  {
   "cell_type": "code",
   "execution_count": 11,
   "metadata": {
    "collapsed": true
   },
   "outputs": [],
   "source": [
    "bins = np.arange(-0.75, 2.75, 0.05)"
   ]
  },
  {
   "cell_type": "code",
   "execution_count": 38,
   "metadata": {
    "collapsed": false
   },
   "outputs": [
    {
     "name": "stdout",
     "output_type": "stream",
     "text": [
      "Bootstrapping...\n",
      "10 percent complete...\n",
      "20 percent complete...\n",
      "30 percent complete...\n",
      "40 percent complete...\n",
      "50 percent complete...\n",
      "60 percent complete...\n",
      "70 percent complete...\n",
      "80 percent complete...\n",
      "90 percent complete...\n",
      "Complete.\n"
     ]
    }
   ],
   "source": [
    "stars_frac_med, stars_frac_lower, stars_frac_upper = confidence_band(\n",
    "    get_stellar_fraction, y_true, y_true, g_r, bins=bins, n_boots=100)"
   ]
  },
  {
   "cell_type": "code",
   "execution_count": 39,
   "metadata": {
    "collapsed": false
   },
   "outputs": [
    {
     "name": "stdout",
     "output_type": "stream",
     "text": [
      "Bootstrapping...\n",
      "10 percent complete...\n",
      "20 percent complete...\n",
      "30 percent complete...\n",
      "40 percent complete...\n",
      "50 percent complete...\n",
      "60 percent complete...\n",
      "70 percent complete...\n",
      "80 percent complete...\n",
      "90 percent complete...\n",
      "Complete.\n"
     ]
    }
   ],
   "source": [
    "cnn_cut, _ = threshold_at_completeness_of(1 - y_true, 1 - cnn_pred, 0.96)\n",
    "\n",
    "cnn_g_med, cnn_g_lower, cnn_g_upper = confidence_band(\n",
    "    kde_purity, 1 - y_true, 1- cnn_pred, g_r, bins=bins, p_cut=cnn_cut, n_boots=100)"
   ]
  },
  {
   "cell_type": "code",
   "execution_count": 40,
   "metadata": {
    "collapsed": false
   },
   "outputs": [
    {
     "name": "stdout",
     "output_type": "stream",
     "text": [
      "Bootstrapping...\n",
      "10 percent complete...\n",
      "20 percent complete...\n",
      "30 percent complete...\n",
      "40 percent complete...\n",
      "50 percent complete...\n",
      "60 percent complete...\n",
      "70 percent complete...\n",
      "80 percent complete...\n",
      "90 percent complete...\n",
      "Complete.\n"
     ]
    }
   ],
   "source": [
    "phot_p_cut, _ = threshold_at_completeness_of(1 - y_true, 1 - phot_pred, 0.96)\n",
    "\n",
    "phot_g_med, phot_g_lower, phot_g_upper = confidence_band(\n",
    "    kde_purity, 1 - y_true, 1 - phot_pred, g_r, bins=bins, p_cut=phot_p_cut, n_boots=100)"
   ]
  },
  {
   "cell_type": "code",
   "execution_count": 41,
   "metadata": {
    "collapsed": false
   },
   "outputs": [
    {
     "name": "stdout",
     "output_type": "stream",
     "text": [
      "Bootstrapping...\n",
      "10 percent complete...\n",
      "20 percent complete...\n",
      "30 percent complete...\n",
      "40 percent complete...\n",
      "50 percent complete...\n",
      "60 percent complete...\n",
      "70 percent complete...\n",
      "80 percent complete...\n",
      "90 percent complete...\n",
      "Complete.\n"
     ]
    }
   ],
   "source": [
    "morph_p_cut, _ = threshold_at_completeness_of(1 - y_true, 1 - morph_pred, 0.96)\n",
    "\n",
    "morph_g_med, morph_g_lower, morph_g_upper = confidence_band(\n",
    "    kde_purity, 1 - y_true, 1 - morph_pred, g_r, bins=bins, p_cut=morph_p_cut, n_boots=1000)"
   ]
  },
  {
   "cell_type": "code",
   "execution_count": 42,
   "metadata": {
    "collapsed": false
   },
   "outputs": [
    {
     "name": "stdout",
     "output_type": "stream",
     "text": [
      "Bootstrapping...\n",
      "10 percent complete...\n",
      "20 percent complete...\n",
      "30 percent complete...\n",
      "40 percent complete...\n",
      "50 percent complete...\n",
      "60 percent complete...\n",
      "70 percent complete...\n",
      "80 percent complete...\n",
      "90 percent complete...\n",
      "Complete.\n"
     ]
    }
   ],
   "source": [
    "cnn_p_cut = 0.60463386\n",
    "\n",
    "cnn_s_med, cnn_s_lower, cnn_s_upper = confidence_band(\n",
    "    kde_completeness, y_true, cnn_pred, g_r, bins=bins, p_cut=cnn_p_cut, n_boots=1000)"
   ]
  },
  {
   "cell_type": "code",
   "execution_count": 43,
   "metadata": {
    "collapsed": false
   },
   "outputs": [
    {
     "name": "stdout",
     "output_type": "stream",
     "text": [
      "Bootstrapping...\n",
      "10 percent complete...\n",
      "20 percent complete...\n",
      "30 percent complete...\n",
      "40 percent complete...\n",
      "50 percent complete...\n",
      "60 percent complete...\n",
      "70 percent complete...\n",
      "80 percent complete...\n",
      "90 percent complete...\n",
      "Complete.\n"
     ]
    }
   ],
   "source": [
    "phot_p_cut, _ = threshold_at_purity_of(y_true, phot_pred, 0.97)\n",
    "\n",
    "phot_s_med, phot_s_lower, phot_s_upper = confidence_band(\n",
    "    kde_completeness, y_true, phot_pred, g_r, bins=bins, p_cut=phot_p_cut, n_boots=1000)"
   ]
  },
  {
   "cell_type": "code",
   "execution_count": 44,
   "metadata": {
    "collapsed": false
   },
   "outputs": [
    {
     "name": "stdout",
     "output_type": "stream",
     "text": [
      "Bootstrapping...\n",
      "10 percent complete...\n",
      "20 percent complete...\n",
      "30 percent complete...\n",
      "40 percent complete...\n",
      "50 percent complete...\n",
      "60 percent complete...\n",
      "70 percent complete...\n",
      "80 percent complete...\n",
      "90 percent complete...\n",
      "Complete.\n"
     ]
    }
   ],
   "source": [
    "morph_p_cut, _ = threshold_at_purity_of(y_true, morph_pred, 0.97)\n",
    "\n",
    "morph_s_med, morph_s_lower, morph_s_upper = confidence_band(\n",
    "    kde_completeness, y_true, morph_pred, g_r, bins=bins, p_cut=morph_p_cut, n_boots=1000)"
   ]
  },
  {
   "cell_type": "code",
   "execution_count": 47,
   "metadata": {
    "collapsed": false
   },
   "outputs": [
    {
     "data": {
      "image/png": "[encoded data removed]",
      "text/plain": [
       "<matplotlib.figure.Figure at 0x7f9f777d0a50>"
      ]
     },
     "metadata": {},
     "output_type": "display_data"
    }
   ],
   "source": [
    "alpha = 0.2\n",
    "\n",
    "p = sns.color_palette()\n",
    "sns.set(style=\"ticks\")\n",
    "\n",
    "fig = plt.figure(figsize=(6, 8))\n",
    "\n",
    "ax0 = plt.subplot2grid((6, 8), (0, 0), colspan=8)\n",
    "ax1 = plt.subplot2grid((6, 8), (1, 0), colspan=8)\n",
    "ax2 = plt.subplot2grid((6, 8), (2, 0), colspan=8, rowspan=2)\n",
    "ax3 = plt.subplot2grid((6, 8), (4, 0), colspan=8, rowspan=2)\n",
    "\n",
    "plt.setp(ax0.get_xticklabels(), visible=False)\n",
    "plt.setp(ax1.get_xticklabels(), visible=False)\n",
    "plt.setp(ax2.get_xticklabels(), visible=False)\n",
    "\n",
    "ax0.hist(g_r, bins=bins, histtype='bar', color=p[1], alpha=alpha)\n",
    "log_dens_g_r = get_log_density(g_r, bins=bins)\n",
    "ax0.plot(bins, len(g_r) * np.exp(log_dens_g_r) / np.exp(log_dens_g_r).sum(), color=p[1])\n",
    "ax0.set_xlim(-0.4, 2.25)\n",
    "ax0.set_yticks([0, 200, 400, 600, 800])\n",
    "ax0.set_ylabel('$N$')\n",
    "\n",
    "ax1.plot(bins, stars_frac_med, label='stars', color=p[3])\n",
    "# error bars are too small\n",
    "ax1.fill_between(bins, stars_frac_lower, stars_frac_upper, color=p[3], alpha=alpha)\n",
    "ax1.set_xlim(-0.25, 2.25)\n",
    "ax1.set_ylim(0, 1)\n",
    "ax1.set_yticks([0, 0.2, 0.4, 0.6, 0.8])\n",
    "ax1.set_ylabel('stellar fraction')\n",
    "#ax1.legend(loc='upper right')\n",
    "\n",
    "ax2.plot(bins, cnn_g_med, label='ConvNet', color=p[2])\n",
    "ax2.fill_between(bins, cnn_g_lower, cnn_g_upper, color=p[2], alpha=alpha)\n",
    "\n",
    "ax2.plot(bins, morph_g_med, label='$\\mathregular{TPC_{morph}}$', ls='--', color=p[0])\n",
    "ax2.fill_between(bins, morph_g_lower, morph_g_upper, color=p[0], alpha=alpha)\n",
    "\n",
    "ax2.plot(bins, phot_g_med, label='$\\mathregular{TPC_{phot}}$', ls='--', color=p[4])\n",
    "ax2.fill_between(bins, phot_g_lower, phot_g_upper, color=p[4], alpha=alpha)\n",
    "\n",
    "ax2.legend(loc='lower right')\n",
    "\n",
    "ax2.set_xlim(-0.25, 2.25)\n",
    "ax2.set_ylim(0.85, 1.02)\n",
    "ax2.set_yticks([0.88, 0.92, 0.96, 1.0])\n",
    "ax2.set_ylabel(r'$p_g(c_g=0.96)$', fontsize=12)\n",
    "\n",
    "ax3.plot(bins, cnn_s_med, label='ConvNet', ls='-', color=p[2])\n",
    "ax3.fill_between(bins, cnn_s_lower, cnn_s_upper, color=p[2], alpha=alpha)\n",
    "\n",
    "ax3.plot(bins, phot_s_med, label='$\\mathregular{TPC_{phot}}$', ls='--', color=p[4])\n",
    "ax3.fill_between(bins, phot_s_lower, phot_s_upper, color=p[4], alpha=alpha)\n",
    "\n",
    "ax3.plot(bins, morph_s_med, label='$\\mathregular{TPC_{morph}}$', ls='--', color=p[0])\n",
    "ax3.fill_between(bins, morph_s_lower, morph_s_upper, color=p[0], alpha=alpha)\n",
    "\n",
    "ax3.set_ylabel(r'$c_s(p_s=0.97)$', fontsize=12)\n",
    "ax3.set_xlim(-0.25, 2.25)\n",
    "ax3.set_ylim(0.25, 1.05)\n",
    "ax3.set_yticks([0.25, 0.50, 0.75, 1.0])\n",
    "\n",
    "ax3.set_xlabel(r'$g-r$')\n",
    "\n",
    "plt.subplots_adjust(hspace=0)\n",
    "plt.savefig('figures/sdss_g_r.pdf', bbox_inches='tight')\n",
    "\n",
    "plt.show()"
   ]
  },
  {
   "cell_type": "code",
   "execution_count": null,
   "metadata": {
    "collapsed": true
   },
   "outputs": [],
   "source": []
  }
 ],
 "metadata": {
  "kernelspec": {
   "display_name": "Python 2",
   "language": "python",
   "name": "python2"
  },
  "language_info": {
   "codemirror_mode": {
    "name": "ipython",
    "version": 2
   },
   "file_extension": ".py",
   "mimetype": "text/x-python",
   "name": "python",
   "nbconvert_exporter": "python",
   "pygments_lexer": "ipython2",
   "version": "2.7.6"
  }
 },
 "nbformat": 4,
 "nbformat_minor": 0
}
