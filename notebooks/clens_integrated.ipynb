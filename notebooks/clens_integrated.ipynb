{
 "cells": [
  {
   "cell_type": "code",
   "execution_count": 1,
   "metadata": {
    "collapsed": true
   },
   "outputs": [],
   "source": [
    "from __future__ import division, print_function, unicode_literals\n",
    "%matplotlib inline\n",
    "import numpy as np\n",
    "import pandas as pd\n",
    "from scipy.special import gammaln\n",
    "from scipy.integrate import quad\n",
    "import matplotlib.pyplot as plt\n",
    "import seaborn as sns\n",
    "\n",
    "from utils.metrics import (\n",
    "    threshold_at_completeness_of,\n",
    "    threshold_at_purity_of,\n",
    "    bayes_conf\n",
    "    )\n",
    "\n",
    "plt.rc('legend', fontsize=10)"
   ]
  },
  {
   "cell_type": "code",
   "execution_count": 2,
   "metadata": {
    "collapsed": false
   },
   "outputs": [],
   "source": [
    "df = pd.read_csv(\"clens_test.csv\")\n",
    "y_fields = [\n",
    "    'W1m0m4', 'W1m1m4', 'W1m2m4', 'W1m3m4', 'W1m4m4',\n",
    "    'W1p1m4', 'W1p1p1', 'W1p2m4', 'W1p3m4', 'W1p3p1',\n",
    "    'W1p4m4', 'W3m0m1', 'W3m2m1', 'W3m2p1', 'W3p2m3',\n",
    "    'W4m1p1', 'W4m1p2', 'W4m1p3', 'W4m2p2', 'W4m2p3',\n",
    "    'W4m3p3'\n",
    "    ]\n",
    "mag_i = df[\"MAG_i\"].values\n",
    "mask = (df[\"field\"].isin(y_fields).values)\n",
    "mag_i[mask] = df[mask][\"MAG_y\"].values"
   ]
  },
  {
   "cell_type": "code",
   "execution_count": 3,
   "metadata": {
    "collapsed": false
   },
   "outputs": [
    {
     "name": "stdout",
     "output_type": "stream",
     "text": [
      "(15313,) 8.2989623141e-06 0.999963237234\n",
      "(15313,) 0.0 1.0\n"
     ]
    }
   ],
   "source": [
    "cnn_pred = np.load(\"clens_convnet_pred.npy\")\n",
    "y_true = np.load(\"clens_test_labels.npy\")\n",
    "print(cnn_pred.shape, cnn_pred.min(), cnn_pred.max())\n",
    "print(y_true.shape, y_true.min(), y_true.max())"
   ]
  },
  {
   "cell_type": "code",
   "execution_count": 4,
   "metadata": {
    "collapsed": true
   },
   "outputs": [],
   "source": [
    "phot_pred = np.loadtxt('clens_tpc.0.mlz', unpack=True, usecols=(2,))\n",
    "morph_pred= np.loadtxt('clens_tpc.1.mlz', unpack=True, usecols=(2,))"
   ]
  },
  {
   "cell_type": "code",
   "execution_count": 5,
   "metadata": {
    "collapsed": true
   },
   "outputs": [],
   "source": [
    "mask = ((mag_i > -90) & (mag_i < 90))\n",
    "mag_i, y_true, cnn_pred, phot_pred, morph_pred = map(\n",
    "    lambda x: x[mask],\n",
    "    [mag_i, y_true, cnn_pred, phot_pred, morph_pred]\n",
    ")"
   ]
  },
  {
   "cell_type": "code",
   "execution_count": 6,
   "metadata": {
    "collapsed": true
   },
   "outputs": [],
   "source": [
    "def integrated_purity(y_true, y_pred, mag, bins=None, threshold=0.5, step=0.005, tol=0.001):\n",
    "\n",
    "    low = np.zeros_like(bins)\n",
    "    med = np.zeros_like(bins)\n",
    "    high = np.zeros_like(bins)\n",
    "\n",
    "    y_class = (y_pred >= threshold).astype(int)\n",
    "    \n",
    "    for i, b in enumerate(bins):\n",
    "        mask = (mag < b)\n",
    "        k = np.sum((y_true[mask] == 1) & (y_class[mask] == 1))\n",
    "        N = np.sum(y_class[mask] == 1)\n",
    "        med[i] = k / N\n",
    "        low[i], high[i], _ = bayes_conf(N, k, step=step, tol=tol)\n",
    "    \n",
    "    return low, med, high"
   ]
  },
  {
   "cell_type": "code",
   "execution_count": 7,
   "metadata": {
    "collapsed": true
   },
   "outputs": [],
   "source": [
    "def integrated_completeness(y_true, y_pred, mag, bins=None, threshold=0.5, step=0.005, tol=0.001):\n",
    "\n",
    "    low = np.zeros_like(bins)\n",
    "    med = np.zeros_like(bins)\n",
    "    high = np.zeros_like(bins)\n",
    "    \n",
    "    y_class = (y_pred >= threshold).astype(int)\n",
    "    \n",
    "    for i, b in enumerate(bins):\n",
    "        mask = (mag < b)\n",
    "        k = np.sum((y_true[mask] == 1) & (y_class[mask] == 1))\n",
    "        N = np.sum(y_true[mask] == 1)\n",
    "    \n",
    "        if N > 0:\n",
    "            med[i] = k / N\n",
    "            low[i], high[i], _ = bayes_conf(N, k, step=step, tol=tol)\n",
    "        else:\n",
    "            low[i], med[i], high[i] = np.nan, np.nan, np.nan\n",
    "            \n",
    "    return low, med, high"
   ]
  },
  {
   "cell_type": "code",
   "execution_count": 27,
   "metadata": {
    "collapsed": true
   },
   "outputs": [],
   "source": [
    "bins = np.arange(19, 25.5, 0.5)"
   ]
  },
  {
   "cell_type": "code",
   "execution_count": 37,
   "metadata": {
    "collapsed": false
   },
   "outputs": [
    {
     "name": "stdout",
     "output_type": "stream",
     "text": [
      "Done. N = 2194, k = 2192, area: 1.000, alpha: 0.9990, beta: 1.0000\n",
      "Done. N = 2752, k = 2750, area: 1.000, alpha: 0.9990, beta: 1.0000\n",
      "Done. N = 3553, k = 3549, area: 1.000, alpha: 0.9984, beta: 1.0000\n",
      "Done. N = 3979, k = 3971, area: 0.683, alpha: 0.9970, beta: 0.9985\n",
      "Done. N = 4700, k = 4691, area: 0.682, alpha: 0.9976, beta: 0.9990\n",
      "Done. N = 6037, k = 6025, area: 0.683, alpha: 0.9974, beta: 0.9986\n",
      "Done. N = 8061, k = 8041, area: 0.682, alpha: 0.9971, beta: 0.9988\n",
      "Done. N = 10554, k = 10528, area: 0.684, alpha: 0.9970, beta: 0.9980\n",
      "Done. N = 11436, k = 11406, area: 0.684, alpha: 0.9969, beta: 0.9979\n",
      "Done. N = 12166, k = 12133, area: 0.683, alpha: 0.9969, beta: 0.9979\n",
      "Done. N = 12643, k = 12609, area: 0.684, alpha: 0.9968, beta: 0.9977\n",
      "Done. N = 12803, k = 12767, area: 0.683, alpha: 0.9967, beta: 0.9977\n",
      "Done. N = 12844, k = 12808, area: 0.684, alpha: 0.9968, beta: 0.9977\n"
     ]
    }
   ],
   "source": [
    "cnn_cut, _ = threshold_at_completeness_of(1 - y_true, 1 - cnn_pred, 0.96)\n",
    "\n",
    "cnn_g_low, cnn_g_med, cnn_g_high = integrated_purity(\n",
    "    1 - y_true, 1- cnn_pred,\n",
    "    mag=mag_i, bins=bins, threshold=cnn_cut, step=0.001\n",
    "    )"
   ]
  },
  {
   "cell_type": "code",
   "execution_count": 29,
   "metadata": {
    "collapsed": false
   },
   "outputs": [
    {
     "name": "stdout",
     "output_type": "stream",
     "text": [
      "Done. N = 2190, k = 2188, area: 1.000, alpha: 0.9990, beta: 1.0000\n",
      "Done. N = 2744, k = 2742, area: 1.000, alpha: 0.9990, beta: 1.0000\n",
      "Done. N = 3522, k = 3518, area: 1.000, alpha: 0.9984, beta: 1.0000\n",
      "Done. N = 3944, k = 3936, area: 0.682, alpha: 0.9973, beta: 0.9988\n",
      "Done. N = 4654, k = 4644, area: 0.684, alpha: 0.9972, beta: 0.9986\n",
      "Done. N = 5991, k = 5975, area: 0.683, alpha: 0.9967, beta: 0.9981\n",
      "Done. N = 8025, k = 7997, area: 0.683, alpha: 0.9960, beta: 0.9980\n",
      "Done. N = 10548, k = 10509, area: 0.683, alpha: 0.9957, beta: 0.9969\n",
      "Done. N = 11445, k = 11404, area: 0.684, alpha: 0.9959, beta: 0.9970\n",
      "Done. N = 12188, k = 12144, area: 0.683, alpha: 0.9959, beta: 0.9970\n",
      "Done. N = 12671, k = 12624, area: 0.683, alpha: 0.9957, beta: 0.9968\n",
      "Done. N = 12824, k = 12777, area: 0.682, alpha: 0.9958, beta: 0.9968\n",
      "Done. N = 12858, k = 12811, area: 0.683, alpha: 0.9958, beta: 0.9969\n"
     ]
    }
   ],
   "source": [
    "morph_cut, _ = threshold_at_completeness_of(1 - y_true, 1 - morph_pred, 0.96)\n",
    "\n",
    "morph_g_low, morph_g_med, morph_g_high = integrated_purity(\n",
    "    1 - y_true, 1- morph_pred,\n",
    "    mag=mag_i, bins=bins, threshold=morph_cut, step=0.001\n",
    "    )"
   ]
  },
  {
   "cell_type": "code",
   "execution_count": 30,
   "metadata": {
    "collapsed": false
   },
   "outputs": [
    {
     "name": "stdout",
     "output_type": "stream",
     "text": [
      "Done. N = 2093, k = 2084, area: 0.683, alpha: 0.9945, beta: 0.9976\n",
      "Done. N = 2631, k = 2621, area: 0.684, alpha: 0.9951, beta: 0.9975\n",
      "Done. N = 3406, k = 3394, area: 0.683, alpha: 0.9955, beta: 0.9975\n",
      "Done. N = 3813, k = 3796, area: 0.683, alpha: 0.9946, beta: 0.9968\n",
      "Done. N = 4526, k = 4505, area: 0.683, alpha: 0.9946, beta: 0.9967\n",
      "Done. N = 5889, k = 5857, area: 0.683, alpha: 0.9939, beta: 0.9964\n",
      "Done. N = 7961, k = 7910, area: 0.684, alpha: 0.9928, beta: 0.9946\n",
      "Done. N = 10557, k = 10481, area: 0.683, alpha: 0.9921, beta: 0.9937\n",
      "Done. N = 11464, k = 11382, area: 0.684, alpha: 0.9921, beta: 0.9937\n",
      "Done. N = 12216, k = 12129, area: 0.684, alpha: 0.9922, beta: 0.9937\n",
      "Done. N = 12702, k = 12609, area: 0.684, alpha: 0.9920, beta: 0.9936\n",
      "Done. N = 12859, k = 12765, area: 0.683, alpha: 0.9919, beta: 0.9934\n",
      "Done. N = 12901, k = 12807, area: 0.682, alpha: 0.9923, beta: 0.9943\n"
     ]
    }
   ],
   "source": [
    "phot_cut, _ = threshold_at_completeness_of(1 - y_true, 1 - phot_pred, 0.96)\n",
    "\n",
    "phot_g_low, phot_g_med, phot_g_high = integrated_purity(\n",
    "    1 - y_true, 1- phot_pred,\n",
    "    mag=mag_i, bins=bins, threshold=phot_cut, step=0.001\n",
    "    )"
   ]
  },
  {
   "cell_type": "code",
   "execution_count": 31,
   "metadata": {
    "collapsed": false
   },
   "outputs": [
    {
     "name": "stdout",
     "output_type": "stream",
     "text": [
      "Done. N = 667, k = 655, area: 0.683, alpha: 0.9773, beta: 0.9879\n",
      "Done. N = 880, k = 865, area: 0.682, alpha: 0.9779, beta: 0.9867\n",
      "Done. N = 1092, k = 1069, area: 0.683, alpha: 0.9753, beta: 0.9843\n",
      "Done. N = 1287, k = 1253, area: 0.682, alpha: 0.9690, beta: 0.9780\n",
      "Done. N = 1483, k = 1440, area: 0.682, alpha: 0.9673, beta: 0.9763\n",
      "Done. N = 1648, k = 1579, area: 0.683, alpha: 0.9536, beta: 0.9636\n",
      "Done. N = 1778, k = 1668, area: 0.683, alpha: 0.9329, beta: 0.9444\n",
      "Done. N = 1901, k = 1736, area: 0.684, alpha: 0.9070, beta: 0.9200\n",
      "Done. N = 1932, k = 1749, area: 0.683, alpha: 0.9000, beta: 0.9138\n",
      "Done. N = 1943, k = 1751, area: 0.682, alpha: 0.8955, beta: 0.9094\n",
      "Done. N = 1950, k = 1752, area: 0.683, alpha: 0.8926, beta: 0.9065\n",
      "Done. N = 1953, k = 1752, area: 0.683, alpha: 0.8904, beta: 0.9042\n",
      "Done. N = 1953, k = 1752, area: 0.683, alpha: 0.8904, beta: 0.9042\n"
     ]
    }
   ],
   "source": [
    "cnn_cut, _ = threshold_at_purity_of(y_true, cnn_pred, 0.97)\n",
    "\n",
    "cnn_s_low, cnn_s_med, cnn_s_high = integrated_completeness(\n",
    "    y_true, cnn_pred,\n",
    "    mag=mag_i, bins=bins, threshold=cnn_cut, step=0.001\n",
    "    )"
   ]
  },
  {
   "cell_type": "code",
   "execution_count": 32,
   "metadata": {
    "collapsed": false
   },
   "outputs": [
    {
     "name": "stdout",
     "output_type": "stream",
     "text": [
      "Done. N = 667, k = 661, area: 0.683, alpha: 0.9875, beta: 0.9952\n",
      "Done. N = 880, k = 871, area: 0.682, alpha: 0.9865, beta: 0.9935\n",
      "Done. N = 1092, k = 1077, area: 0.683, alpha: 0.9830, beta: 0.9903\n",
      "Done. N = 1287, k = 1262, area: 0.684, alpha: 0.9771, beta: 0.9849\n",
      "Done. N = 1483, k = 1452, area: 0.684, alpha: 0.9758, beta: 0.9834\n",
      "Done. N = 1648, k = 1601, area: 0.683, alpha: 0.9676, beta: 0.9758\n",
      "Done. N = 1778, k = 1704, area: 0.682, alpha: 0.9542, beta: 0.9639\n",
      "Done. N = 1901, k = 1787, area: 0.683, alpha: 0.9350, beta: 0.9460\n",
      "Done. N = 1932, k = 1806, area: 0.684, alpha: 0.9298, beta: 0.9412\n",
      "Done. N = 1943, k = 1808, area: 0.684, alpha: 0.9256, beta: 0.9374\n",
      "Done. N = 1950, k = 1809, area: 0.683, alpha: 0.9228, beta: 0.9349\n",
      "Done. N = 1953, k = 1810, area: 0.683, alpha: 0.9208, beta: 0.9326\n",
      "Done. N = 1953, k = 1810, area: 0.683, alpha: 0.9208, beta: 0.9326\n"
     ]
    }
   ],
   "source": [
    "morph_cut, _ = threshold_at_purity_of(y_true, morph_pred, 0.97)\n",
    "\n",
    "morph_s_low, morph_s_med, morph_s_high = integrated_completeness(\n",
    "    y_true, morph_pred,\n",
    "    mag=mag_i, bins=bins, threshold=morph_cut, step=0.001\n",
    "    )"
   ]
  },
  {
   "cell_type": "code",
   "execution_count": 33,
   "metadata": {
    "collapsed": false
   },
   "outputs": [
    {
     "name": "stdout",
     "output_type": "stream",
     "text": [
      "Done. N = 667, k = 599, area: 0.683, alpha: 0.8868, beta: 0.9103\n",
      "Done. N = 880, k = 797, area: 0.683, alpha: 0.8970, beta: 0.9170\n",
      "Done. N = 1092, k = 987, area: 0.682, alpha: 0.8960, beta: 0.9141\n",
      "Done. N = 1287, k = 1155, area: 0.683, alpha: 0.8904, beta: 0.9077\n",
      "Done. N = 1483, k = 1316, area: 0.684, alpha: 0.8796, beta: 0.8961\n",
      "Done. N = 1648, k = 1433, area: 0.683, alpha: 0.8614, beta: 0.8781\n",
      "Done. N = 1778, k = 1509, area: 0.683, alpha: 0.8400, beta: 0.8570\n",
      "Done. N = 1901, k = 1556, area: 0.683, alpha: 0.8110, beta: 0.8290\n",
      "Done. N = 1932, k = 1568, area: 0.683, alpha: 0.8024, beta: 0.8202\n",
      "Done. N = 1943, k = 1570, area: 0.682, alpha: 0.8000, beta: 0.8180\n",
      "Done. N = 1950, k = 1571, area: 0.684, alpha: 0.7970, beta: 0.8150\n",
      "Done. N = 1953, k = 1571, area: 0.682, alpha: 0.7960, beta: 0.8140\n",
      "Done. N = 1953, k = 1571, area: 0.682, alpha: 0.7960, beta: 0.8140\n"
     ]
    }
   ],
   "source": [
    "phot_cut, _ = threshold_at_purity_of(y_true, phot_pred, 0.97)\n",
    "\n",
    "phot_s_low, phot_s_med, phot_s_high = integrated_completeness(\n",
    "    y_true, phot_pred,\n",
    "    mag=mag_i, bins=bins, threshold=phot_cut, step=0.001\n",
    "    )"
   ]
  },
  {
   "cell_type": "code",
   "execution_count": 40,
   "metadata": {
    "collapsed": false
   },
   "outputs": [
    {
     "data": {
      "image/png": "[encoded data removed]",
      "text/plain": [
       "<matplotlib.figure.Figure at 0x7f4fb4c66290>"
      ]
     },
     "metadata": {},
     "output_type": "display_data"
    }
   ],
   "source": [
    "p = sns.color_palette()\n",
    "sns.set_style(\"ticks\")\n",
    "\n",
    "fig = plt.figure(figsize=(6, 6))\n",
    "\n",
    "ax0 = plt.subplot2grid((6, 3), (0, 0), colspan=3, rowspan=3)\n",
    "ax1 = plt.subplot2grid((6, 3), (3, 0), colspan=3, rowspan=3)\n",
    "\n",
    "plt.setp(ax0.get_xticklabels(), visible=False)\n",
    "\n",
    "offset = 0.1\n",
    "\n",
    "ax0.errorbar(\n",
    "    bins, cnn_g_med,\n",
    "    yerr=[cnn_g_med - cnn_g_low, cnn_g_high - cnn_g_med],\n",
    "    label='ConvNet', ls='-', marker='o', markersize=4, color=p[2])\n",
    "\n",
    "ax0.errorbar(\n",
    "    bins + offset, morph_g_med,\n",
    "    yerr=[morph_g_med - morph_g_low, morph_g_high - morph_g_med],\n",
    "    label='$\\mathregular{TPC_{morph}}$', ls='--', marker='o', markersize=4, color=p[0])\n",
    "\n",
    "ax0.errorbar(\n",
    "    bins, phot_g_med,\n",
    "    yerr=[phot_g_med - phot_g_low, phot_g_high - phot_g_med],\n",
    "    label='$\\mathregular{TPC_{phot}}$', ls='--', marker='o', markersize=4, color=p[4])\n",
    "\n",
    "ax0.set_xlim(18.8, 24.7)\n",
    "ax0.set_ylim(0.989, 1.001)\n",
    "ax0.set_yticks([0.990, 0.992, 0.994, 0.996, 0.998, 1.0])\n",
    "ax0.set_ylabel(r'$p_g\\left(c_g=0.96\\right)$', fontsize=12)\n",
    "\n",
    "ax0.legend(loc='lower left')\n",
    "\n",
    "ax1.errorbar(\n",
    "    bins, cnn_s_med,\n",
    "    yerr=[cnn_s_med - cnn_s_low, cnn_s_high - cnn_s_med],\n",
    "    label='ConvNet', ls='-', marker='o', markersize=4, color=p[2])\n",
    "\n",
    "ax1.errorbar(\n",
    "    bins + offset, morph_s_med,\n",
    "    yerr=[morph_s_med - morph_s_low, morph_s_high - morph_s_med],\n",
    "    label='$\\mathregular{TPC_{morph}}$', ls='--', marker='o', markersize=4, color=p[0])\n",
    "\n",
    "ax1.errorbar(\n",
    "    bins, phot_s_med,\n",
    "    yerr=[phot_s_med - phot_s_low, phot_s_high - phot_s_med],\n",
    "    label='$\\mathregular{TPC_{phot}}$', ls='--', marker='o', markersize=4, color=p[4])\n",
    "\n",
    "ax1.set_ylabel(r'$c_s\\left(p_s=0.97\\right)$', fontsize=12)\n",
    "ax1.set_xlim(18.8, 24.7)\n",
    "ax1.set_ylim(0.78, 1.02)\n",
    "#ax1.set_yticks([0.96, 0.97, 0.98, 0.99, 1.00])\n",
    "\n",
    "ax1.set_xlabel(r'$i$ (mag)')\n",
    "\n",
    "plt.subplots_adjust(hspace=0)\n",
    "\n",
    "plt.savefig('figures/clens_integrated.pdf', bbox_inches='tight')\n",
    "\n",
    "plt.show()"
   ]
  },
  {
   "cell_type": "code",
   "execution_count": null,
   "metadata": {
    "collapsed": true
   },
   "outputs": [],
   "source": []
  }
 ],
 "metadata": {
  "kernelspec": {
   "display_name": "Python 2",
   "language": "python",
   "name": "python2"
  },
  "language_info": {
   "codemirror_mode": {
    "name": "ipython",
    "version": 2
   },
   "file_extension": ".py",
   "mimetype": "text/x-python",
   "name": "python",
   "nbconvert_exporter": "python",
   "pygments_lexer": "ipython2",
   "version": "2.7.6"
  }
 },
 "nbformat": 4,
 "nbformat_minor": 0
}
