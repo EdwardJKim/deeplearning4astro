{
 "cells": [
  {
   "cell_type": "code",
   "execution_count": 1,
   "metadata": {
    "collapsed": false
   },
   "outputs": [],
   "source": [
    "from __future__ import division, print_function, unicode_literals, absolute_import\n",
    "%matplotlib inline\n",
    "import numpy as np\n",
    "import pandas as pd\n",
    "import matplotlib.pyplot as plt\n",
    "import seaborn as sns\n",
    "from sklearn.neighbors import KernelDensity\n",
    "from sklearn.metrics import precision_recall_curve\n",
    "\n",
    "from utils.metrics import threshold_at_completeness_of, threshold_at_purity_of\n",
    "from utils.bootstrap import (\n",
    "    kde_purity,\n",
    "    kde_completeness,\n",
    "    get_stellar_fraction,\n",
    "    confidence_band,\n",
    "    get_log_density\n",
    ")\n",
    "\n",
    "plt.rc('legend', fontsize=10)"
   ]
  },
  {
   "cell_type": "code",
   "execution_count": 2,
   "metadata": {
    "collapsed": false
   },
   "outputs": [],
   "source": [
    "df = pd.read_csv(\"clens_test.csv\")\n",
    "y_fields = [\n",
    "    'W1m0m4', 'W1m1m4', 'W1m2m4', 'W1m3m4', 'W1m4m4',\n",
    "    'W1p1m4', 'W1p1p1', 'W1p2m4', 'W1p3m4', 'W1p3p1',\n",
    "    'W1p4m4', 'W3m0m1', 'W3m2m1', 'W3m2p1', 'W3p2m3',\n",
    "    'W4m1p1', 'W4m1p2', 'W4m1p3', 'W4m2p2', 'W4m2p3',\n",
    "    'W4m3p3'\n",
    "    ]\n",
    "mag_i = df[\"MAG_i\"].values\n",
    "mask = (df[\"field\"].isin(y_fields).values)\n",
    "mag_i[mask] = df[mask][\"MAG_y\"].values"
   ]
  },
  {
   "cell_type": "code",
   "execution_count": 3,
   "metadata": {
    "collapsed": false
   },
   "outputs": [
    {
     "name": "stdout",
     "output_type": "stream",
     "text": [
      "(15313,) 8.2989623141e-06 0.999963237234\n",
      "(15313,) 0.0 1.0\n"
     ]
    }
   ],
   "source": [
    "cnn_pred = np.load(\"clens_convnet_pred.npy\")\n",
    "y_true = np.load(\"clens_test_labels.npy\")\n",
    "print(cnn_pred.shape, cnn_pred.min(), cnn_pred.max())\n",
    "print(y_true.shape, y_true.min(), y_true.max())"
   ]
  },
  {
   "cell_type": "code",
   "execution_count": 4,
   "metadata": {
    "collapsed": false
   },
   "outputs": [],
   "source": [
    "phot_pred = np.loadtxt('clens_tpc.0.mlz', unpack=True, usecols=(2,))\n",
    "morph_pred= np.loadtxt('clens_tpc.1.mlz', unpack=True, usecols=(2,))"
   ]
  },
  {
   "cell_type": "code",
   "execution_count": 5,
   "metadata": {
    "collapsed": false
   },
   "outputs": [],
   "source": [
    "mask = ((mag_i > -90) & (mag_i < 90))\n",
    "mag_i, y_true, cnn_pred, phot_pred, morph_pred = map(\n",
    "    lambda x: x[mask],\n",
    "    [mag_i, y_true, cnn_pred, phot_pred, morph_pred]\n",
    ")"
   ]
  },
  {
   "cell_type": "code",
   "execution_count": 6,
   "metadata": {
    "collapsed": true
   },
   "outputs": [],
   "source": [
    "bins = np.arange(17, 25.5, 0.1)"
   ]
  },
  {
   "cell_type": "code",
   "execution_count": 7,
   "metadata": {
    "collapsed": false
   },
   "outputs": [
    {
     "name": "stdout",
     "output_type": "stream",
     "text": [
      "Bootstrapping...\n",
      "10 percent complete...\n",
      "20 percent complete...\n",
      "30 percent complete...\n",
      "40 percent complete...\n",
      "50 percent complete...\n",
      "60 percent complete...\n",
      "70 percent complete...\n",
      "80 percent complete...\n",
      "90 percent complete...\n",
      "Complete.\n"
     ]
    }
   ],
   "source": [
    "stars_frac_med, stars_frac_lower, stars_frac_upper = confidence_band(\n",
    "    get_stellar_fraction, y_true, y_true, mag_i, bins=bins, n_boots=1000)"
   ]
  },
  {
   "cell_type": "code",
   "execution_count": 8,
   "metadata": {
    "collapsed": false
   },
   "outputs": [
    {
     "name": "stdout",
     "output_type": "stream",
     "text": [
      "Bootstrapping...\n",
      "10 percent complete...\n",
      "20 percent complete...\n",
      "30 percent complete...\n",
      "40 percent complete...\n",
      "50 percent complete...\n",
      "60 percent complete...\n",
      "70 percent complete...\n",
      "80 percent complete...\n",
      "90 percent complete...\n",
      "Complete.\n"
     ]
    }
   ],
   "source": [
    "cnn_cut, _ = threshold_at_completeness_of(1 - y_true, 1 - cnn_pred, 0.96)\n",
    "\n",
    "cnn_g_med, cnn_g_lower, cnn_g_upper = confidence_band(\n",
    "    kde_purity, 1 - y_true, 1- cnn_pred, mag_i, bins=bins, p_cut=cnn_cut, n_boots=1000)"
   ]
  },
  {
   "cell_type": "code",
   "execution_count": 9,
   "metadata": {
    "collapsed": false
   },
   "outputs": [
    {
     "name": "stdout",
     "output_type": "stream",
     "text": [
      "Bootstrapping...\n",
      "10 percent complete...\n",
      "20 percent complete...\n",
      "30 percent complete...\n",
      "40 percent complete...\n",
      "50 percent complete...\n",
      "60 percent complete...\n",
      "70 percent complete...\n",
      "80 percent complete...\n",
      "90 percent complete...\n",
      "Complete.\n"
     ]
    }
   ],
   "source": [
    "phot_p_cut, _ = threshold_at_completeness_of(1 - y_true, 1 - phot_pred, 0.96)\n",
    "\n",
    "phot_g_med, phot_g_lower, phot_g_upper = confidence_band(\n",
    "    kde_purity, 1 - y_true, 1 - phot_pred, mag_i, bins=bins, p_cut=phot_p_cut, n_boots=1000)"
   ]
  },
  {
   "cell_type": "code",
   "execution_count": 10,
   "metadata": {
    "collapsed": false
   },
   "outputs": [
    {
     "name": "stdout",
     "output_type": "stream",
     "text": [
      "Bootstrapping...\n",
      "10 percent complete...\n",
      "20 percent complete...\n",
      "30 percent complete...\n",
      "40 percent complete...\n",
      "50 percent complete...\n",
      "60 percent complete...\n",
      "70 percent complete...\n",
      "80 percent complete...\n",
      "90 percent complete...\n",
      "Complete.\n"
     ]
    }
   ],
   "source": [
    "morph_p_cut, _ = threshold_at_completeness_of(1 - y_true, 1 - morph_pred, 0.96)\n",
    "\n",
    "morph_g_med, morph_g_lower, morph_g_upper = confidence_band(\n",
    "    kde_purity, 1 - y_true, 1 - morph_pred, mag_i, bins=bins, p_cut=morph_p_cut, n_boots=1000)"
   ]
  },
  {
   "cell_type": "code",
   "execution_count": 16,
   "metadata": {
    "collapsed": false
   },
   "outputs": [
    {
     "name": "stdout",
     "output_type": "stream",
     "text": [
      "Bootstrapping...\n",
      "10 percent complete...\n",
      "20 percent complete...\n",
      "30 percent complete...\n",
      "40 percent complete...\n",
      "50 percent complete...\n",
      "60 percent complete...\n",
      "70 percent complete...\n",
      "80 percent complete...\n",
      "90 percent complete...\n",
      "Complete.\n"
     ]
    }
   ],
   "source": [
    "cnn_p_cut, _ = threshold_at_completeness_of(y_true, cnn_pred, 0.97)\n",
    "\n",
    "cnn_s_med, cnn_s_lower, cnn_s_upper = confidence_band(\n",
    "    kde_purity, y_true, cnn_pred, mag_i, bins=bins, p_cut=cnn_p_cut, n_boots=1000)"
   ]
  },
  {
   "cell_type": "code",
   "execution_count": 17,
   "metadata": {
    "collapsed": false
   },
   "outputs": [
    {
     "name": "stdout",
     "output_type": "stream",
     "text": [
      "Bootstrapping...\n",
      "10 percent complete...\n",
      "20 percent complete...\n",
      "30 percent complete...\n",
      "40 percent complete...\n",
      "50 percent complete...\n",
      "60 percent complete...\n",
      "70 percent complete...\n",
      "80 percent complete...\n",
      "90 percent complete...\n",
      "Complete.\n"
     ]
    }
   ],
   "source": [
    "phot_p_cut, _ = threshold_at_completeness_of(y_true, phot_pred, 0.97)\n",
    "\n",
    "phot_s_med, phot_s_lower, phot_s_upper = confidence_band(\n",
    "    kde_purity, y_true, phot_pred, mag_i, bins=bins, p_cut=phot_p_cut, n_boots=1000)"
   ]
  },
  {
   "cell_type": "code",
   "execution_count": 19,
   "metadata": {
    "collapsed": false
   },
   "outputs": [
    {
     "name": "stdout",
     "output_type": "stream",
     "text": [
      "Bootstrapping...\n",
      "10 percent complete...\n",
      "20 percent complete...\n",
      "30 percent complete...\n",
      "40 percent complete...\n",
      "50 percent complete...\n",
      "60 percent complete...\n",
      "70 percent complete...\n",
      "80 percent complete...\n",
      "90 percent complete...\n",
      "Complete.\n"
     ]
    }
   ],
   "source": [
    "morph_p_cut, _ = threshold_at_completeness_of(y_true, morph_pred, 0.97)\n",
    "\n",
    "morph_s_med, morph_s_lower, morph_s_upper = confidence_band(\n",
    "    kde_purity, y_true, morph_pred, mag_i, bins=bins, p_cut=morph_p_cut, n_boots=1000)"
   ]
  },
  {
   "cell_type": "code",
   "execution_count": 20,
   "metadata": {
    "collapsed": false
   },
   "outputs": [
    {
     "data": {
      "image/png": "[encoded data removed]",
      "text/plain": [
       "<matplotlib.figure.Figure at 0x7fdeada1c110>"
      ]
     },
     "metadata": {},
     "output_type": "display_data"
    }
   ],
   "source": [
    "alpha = 0.2\n",
    "\n",
    "p = sns.color_palette()\n",
    "sns.set(style=\"ticks\")\n",
    "\n",
    "fig = plt.figure(figsize=(6, 8))\n",
    "\n",
    "ax0 = plt.subplot2grid((6, 8), (0, 0), colspan=8)\n",
    "ax1 = plt.subplot2grid((6, 8), (1, 0), colspan=8)\n",
    "ax2 = plt.subplot2grid((6, 8), (2, 0), colspan=8, rowspan=2)\n",
    "ax3 = plt.subplot2grid((6, 8), (4, 0), colspan=8, rowspan=2)\n",
    "\n",
    "plt.setp(ax0.get_xticklabels(), visible=False)\n",
    "plt.setp(ax1.get_xticklabels(), visible=False)\n",
    "plt.setp(ax2.get_xticklabels(), visible=False)\n",
    "\n",
    "ax0.hist(mag_i, bins=bins, histtype='bar', color=p[1], alpha=alpha)\n",
    "log_dens_mag_i = get_log_density(mag_i, bins=bins)\n",
    "ax0.plot(bins, len(mag_i) * np.exp(log_dens_mag_i) / np.exp(log_dens_mag_i).sum(), color=p[1])\n",
    "ax0.set_xlim(17.5, 24.5)\n",
    "ax0.set_yticks([200, 400, 600])\n",
    "ax0.set_ylabel('$N$')\n",
    "\n",
    "ax1.plot(bins, stars_frac_med, label='stars', color=p[3])\n",
    "# error bars are too small\n",
    "ax1.fill_between(bins, stars_frac_lower, stars_frac_upper, color=p[3], alpha=alpha)\n",
    "ax1.set_xlim(17.5, 24.5)\n",
    "ax1.set_ylim(0, 0.45)\n",
    "ax1.set_yticks([0, 0.2, 0.4])\n",
    "ax1.set_ylabel('stellar fraction')\n",
    "#ax1.legend(loc='upper right')\n",
    "\n",
    "ax2.plot(bins, cnn_g_med, label='ConvNet', color=p[2])\n",
    "ax2.fill_between(bins, cnn_g_lower, cnn_g_upper, color=p[2], alpha=alpha)\n",
    "\n",
    "ax2.plot(bins, morph_g_med, label='$\\mathregular{TPC_{morph}}$', ls='--', color=p[0])\n",
    "ax2.fill_between(bins, morph_g_lower, morph_g_upper, color=p[0], alpha=alpha)\n",
    "\n",
    "ax2.plot(bins, phot_g_med, label='$\\mathregular{TPC_{phot}}$', ls='--', color=p[4])\n",
    "ax2.fill_between(bins, phot_g_lower, phot_g_upper, color=p[4], alpha=alpha)\n",
    "\n",
    "\n",
    "ax2.legend(loc='lower center')\n",
    "\n",
    "ax2.set_xlim(17.5, 24.5)\n",
    "ax2.set_ylim(0.93, 1.01)\n",
    "ax2.set_yticks([0.94, 0.96, 0.98, 1.0])\n",
    "ax2.set_ylabel(r'$p_g(c_g=0.96)$', fontsize=14)\n",
    "\n",
    "ax3.plot(bins, cnn_s_med, label='ConvNet', ls='-', color=p[2])\n",
    "ax3.fill_between(bins, cnn_s_lower, cnn_s_upper, color=p[2], alpha=alpha)\n",
    "\n",
    "ax3.plot(bins, phot_s_med, label='TPC1', ls='--', color=p[4])\n",
    "ax3.fill_between(bins, phot_s_lower, phot_s_upper, color=p[4], alpha=alpha)\n",
    "\n",
    "ax3.plot(bins, morph_s_med, label='TPC2', ls='--', color=p[0])\n",
    "ax3.fill_between(bins, morph_s_lower, morph_s_upper, color=p[0], alpha=alpha)\n",
    "\n",
    "ax3.set_ylabel(r'$c_s(p_s=0.97)$', fontsize=14)\n",
    "ax3.set_xlim(17.5, 24.5)\n",
    "ax3.set_ylim(0.0, 1.1)\n",
    "ax3.set_xlabel(r'$i$ (mag)')\n",
    "\n",
    "plt.subplots_adjust(hspace=0)\n",
    "plt.savefig('figures/clens_mag.pdf', bbox_inches='tight')\n",
    "\n",
    "plt.show()"
   ]
  },
  {
   "cell_type": "code",
   "execution_count": null,
   "metadata": {
    "collapsed": true
   },
   "outputs": [],
   "source": []
  }
 ],
 "metadata": {
  "kernelspec": {
   "display_name": "Python 2",
   "language": "python",
   "name": "python2"
  },
  "language_info": {
   "codemirror_mode": {
    "name": "ipython",
    "version": 2
   },
   "file_extension": ".py",
   "mimetype": "text/x-python",
   "name": "python",
   "nbconvert_exporter": "python",
   "pygments_lexer": "ipython2",
   "version": "2.7.6"
  }
 },
 "nbformat": 4,
 "nbformat_minor": 0
}
