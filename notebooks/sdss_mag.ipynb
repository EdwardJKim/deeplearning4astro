{
 "cells": [
  {
   "cell_type": "code",
   "execution_count": 1,
   "metadata": {
    "collapsed": false
   },
   "outputs": [],
   "source": [
    "from __future__ import division, print_function, unicode_literals\n",
    "%matplotlib inline\n",
    "import numpy as np\n",
    "import pandas as pd\n",
    "import matplotlib.pyplot as plt\n",
    "import seaborn as sns\n",
    "\n",
    "from utils.metrics import threshold_at_completeness_of, threshold_at_purity_of\n",
    "from utils.bootstrap import (\n",
    "    kde_purity,\n",
    "    kde_completeness,\n",
    "    get_stellar_fraction,\n",
    "    confidence_band,\n",
    "    get_log_density\n",
    ")\n",
    "\n",
    "plt.rc('legend', fontsize=10)"
   ]
  },
  {
   "cell_type": "code",
   "execution_count": 2,
   "metadata": {
    "collapsed": false
   },
   "outputs": [],
   "source": [
    "df = pd.read_csv(\"sdss_test.csv\")\n",
    "mag_r = df[\"dered_r\"].values"
   ]
  },
  {
   "cell_type": "code",
   "execution_count": 3,
   "metadata": {
    "collapsed": false
   },
   "outputs": [],
   "source": [
    "morph_true, morph_pred = np.loadtxt('sdss_tpc.2.mlz', unpack=True, usecols=(0, 2))\n",
    "morph_true = 1.0 - morph_true # make galaxy=0 and star=1\n",
    "morph_pred = 1.0 - morph_pred # make galaxy=0 and star=1"
   ]
  },
  {
   "cell_type": "code",
   "execution_count": 4,
   "metadata": {
    "collapsed": true
   },
   "outputs": [],
   "source": [
    "phot_true, phot_pred = np.loadtxt('sdss_tpc.3.mlz', unpack=True, usecols=(0, 2))\n",
    "phot_true = 1.0 - phot_true # make galaxy=0 and star=1\n",
    "phot_pred = 1.0 - phot_pred # make galaxy=0 and star=1"
   ]
  },
  {
   "cell_type": "code",
   "execution_count": 5,
   "metadata": {
    "collapsed": false
   },
   "outputs": [],
   "source": [
    "cnn_true = np.load(\"sdss_test_labels.npy\")\n",
    "cnn_pred = np.load(\"sdss_convnet_pred.npy\")\n",
    "\n",
    "cnn_pred = 1.0 - cnn_pred # make galaxy=0 and star=1\n",
    "cnn_true = (1.0 - cnn_true) / 2 # make galaxy=0 and star=1\n",
    "\n",
    "assert cnn_true.min() == 0\n",
    "assert cnn_true.max() == 1\n",
    "assert phot_true.sum() == cnn_true.sum()\n",
    "assert morph_true.sum() == cnn_true.sum()"
   ]
  },
  {
   "cell_type": "code",
   "execution_count": 6,
   "metadata": {
    "collapsed": false
   },
   "outputs": [],
   "source": [
    "mask = ((mag_r > -90) & (mag_r < 90))\n",
    "mag_r, cnn_true, cnn_pred, phot_pred, morph_pred = map(\n",
    "    lambda x: x[mask],\n",
    "    [mag_r, cnn_true, cnn_pred, phot_pred, morph_pred]\n",
    ")"
   ]
  },
  {
   "cell_type": "code",
   "execution_count": 7,
   "metadata": {
    "collapsed": true
   },
   "outputs": [],
   "source": [
    "bins = np.arange(13.5, 23.5, 0.1)"
   ]
  },
  {
   "cell_type": "code",
   "execution_count": 35,
   "metadata": {
    "collapsed": false
   },
   "outputs": [
    {
     "name": "stdout",
     "output_type": "stream",
     "text": [
      "Bootstrapping...\n",
      "10 percent complete...\n",
      "20 percent complete...\n",
      "30 percent complete...\n",
      "40 percent complete...\n",
      "50 percent complete...\n",
      "60 percent complete...\n",
      "70 percent complete...\n",
      "80 percent complete...\n",
      "90 percent complete...\n",
      "Complete.\n"
     ]
    }
   ],
   "source": [
    "stars_frac_med, stars_frac_lower, stars_frac_upper = confidence_band(\n",
    "    get_stellar_fraction, 1 - cnn_true, 1 - cnn_true, mag_r, bins=bins, n_boots=100)"
   ]
  },
  {
   "cell_type": "code",
   "execution_count": 36,
   "metadata": {
    "collapsed": false
   },
   "outputs": [
    {
     "name": "stdout",
     "output_type": "stream",
     "text": [
      "Bootstrapping...\n",
      "10 percent complete...\n",
      "20 percent complete...\n",
      "30 percent complete...\n",
      "40 percent complete...\n",
      "50 percent complete...\n",
      "60 percent complete...\n",
      "70 percent complete...\n",
      "80 percent complete...\n",
      "90 percent complete...\n",
      "Complete.\n"
     ]
    }
   ],
   "source": [
    "cnn_cut = threshold_at_completeness_of(cnn_true, cnn_pred, 0.96)\n",
    "\n",
    "cnn_g_med, cnn_g_lower, cnn_g_upper = confidence_band(\n",
    "    kde_purity, cnn_true, cnn_pred, mag_r, bins=bins, p_cut=cnn_cut, n_boots=1000)"
   ]
  },
  {
   "cell_type": "code",
   "execution_count": 37,
   "metadata": {
    "collapsed": false
   },
   "outputs": [
    {
     "name": "stdout",
     "output_type": "stream",
     "text": [
      "Bootstrapping...\n",
      "10 percent complete...\n",
      "20 percent complete...\n",
      "30 percent complete...\n",
      "40 percent complete...\n",
      "50 percent complete...\n",
      "60 percent complete...\n",
      "70 percent complete...\n",
      "80 percent complete...\n",
      "90 percent complete...\n",
      "Complete.\n"
     ]
    }
   ],
   "source": [
    "phot_p_cut = threshold_at_completeness_of(phot_true, phot_pred, 0.96)\n",
    "\n",
    "phot_g_med, phot_g_lower, phot_g_upper = confidence_band(\n",
    "    kde_purity, phot_true, phot_pred, mag_r, bins=bins, p_cut=phot_p_cut, n_boots=1000)"
   ]
  },
  {
   "cell_type": "code",
   "execution_count": 38,
   "metadata": {
    "collapsed": false
   },
   "outputs": [
    {
     "name": "stdout",
     "output_type": "stream",
     "text": [
      "Bootstrapping...\n",
      "10 percent complete...\n",
      "20 percent complete...\n",
      "30 percent complete...\n",
      "40 percent complete...\n",
      "50 percent complete...\n",
      "60 percent complete...\n",
      "70 percent complete...\n",
      "80 percent complete...\n",
      "90 percent complete...\n",
      "Complete.\n"
     ]
    }
   ],
   "source": [
    "morph_p_cut = threshold_at_completeness_of(morph_true, morph_pred, 0.96)\n",
    "\n",
    "morph_g_med, morph_g_lower, morph_g_upper = confidence_band(\n",
    "    kde_purity, morph_true, morph_pred, mag_r, bins=bins, p_cut=morph_p_cut, n_boots=1000)"
   ]
  },
  {
   "cell_type": "code",
   "execution_count": 39,
   "metadata": {
    "collapsed": false
   },
   "outputs": [
    {
     "name": "stdout",
     "output_type": "stream",
     "text": [
      "Bootstrapping...\n",
      "10 percent complete...\n",
      "20 percent complete...\n",
      "30 percent complete...\n",
      "40 percent complete...\n",
      "50 percent complete...\n",
      "60 percent complete...\n",
      "70 percent complete...\n",
      "80 percent complete...\n",
      "90 percent complete...\n",
      "Complete.\n"
     ]
    }
   ],
   "source": [
    "cnn_p_cut = threshold_at_purity_of(1 - cnn_true, 1 - cnn_pred, 0.97)\n",
    "\n",
    "cnn_s_med, cnn_s_lower, cnn_s_upper = confidence_band(\n",
    "    kde_completeness, 1 - cnn_true, 1 - cnn_pred, mag_r, bins=bins, p_cut=cnn_p_cut, n_boots=10000)"
   ]
  },
  {
   "cell_type": "code",
   "execution_count": 40,
   "metadata": {
    "collapsed": false
   },
   "outputs": [
    {
     "name": "stdout",
     "output_type": "stream",
     "text": [
      "Bootstrapping...\n",
      "10 percent complete...\n",
      "20 percent complete...\n",
      "30 percent complete...\n",
      "40 percent complete...\n",
      "50 percent complete...\n",
      "60 percent complete...\n",
      "70 percent complete...\n",
      "80 percent complete...\n",
      "90 percent complete...\n",
      "Complete.\n"
     ]
    }
   ],
   "source": [
    "phot_p_cut = threshold_at_purity_of(1 - phot_true, 1 - phot_pred, 0.97)\n",
    "\n",
    "phot_s_med, phot_s_lower, phot_s_upper = confidence_band(\n",
    "    kde_completeness, 1 - phot_true, 1 - phot_pred, mag_r, bins=bins, p_cut=phot_p_cut, n_boots=10000)"
   ]
  },
  {
   "cell_type": "code",
   "execution_count": 41,
   "metadata": {
    "collapsed": false
   },
   "outputs": [
    {
     "name": "stdout",
     "output_type": "stream",
     "text": [
      "Bootstrapping...\n",
      "10 percent complete...\n",
      "20 percent complete...\n",
      "30 percent complete...\n",
      "40 percent complete...\n",
      "50 percent complete...\n",
      "60 percent complete...\n",
      "70 percent complete...\n",
      "80 percent complete...\n",
      "90 percent complete...\n",
      "Complete.\n"
     ]
    }
   ],
   "source": [
    "morph_p_cut = threshold_at_purity_of(1 - morph_true, 1 - morph_pred, 0.97)\n",
    "\n",
    "morph_s_med, morph_s_lower, morph_s_upper = confidence_band(\n",
    "    kde_completeness, 1 - morph_true, 1 - morph_pred, mag_r, bins=bins, p_cut=morph_p_cut, n_boots=10000)"
   ]
  },
  {
   "cell_type": "code",
   "execution_count": 42,
   "metadata": {
    "collapsed": false
   },
   "outputs": [
    {
     "data": {
      "image/png": "[encoded data removed]",
      "text/plain": [
       "<matplotlib.figure.Figure at 0x7fd2fbdc1ef0>"
      ]
     },
     "metadata": {},
     "output_type": "display_data"
    }
   ],
   "source": [
    "alpha = 0.2\n",
    "\n",
    "p = sns.color_palette()\n",
    "sns.set_style(\"ticks\")\n",
    "\n",
    "fig = plt.figure(figsize=(6, 8))\n",
    "\n",
    "ax0 = plt.subplot2grid((6, 8), (0, 0), colspan=8)\n",
    "ax1 = plt.subplot2grid((6, 8), (1, 0), colspan=8)\n",
    "ax2 = plt.subplot2grid((6, 8), (2, 0), colspan=8, rowspan=2)\n",
    "ax3 = plt.subplot2grid((6, 8), (4, 0), colspan=8, rowspan=2)\n",
    "\n",
    "plt.setp(ax0.get_xticklabels(), visible=False)\n",
    "plt.setp(ax1.get_xticklabels(), visible=False)\n",
    "plt.setp(ax2.get_xticklabels(), visible=False)\n",
    "\n",
    "ax0.hist(mag_r, bins=bins, histtype='bar', color=p[1], alpha=alpha)\n",
    "log_dens_mag_r = get_log_density(mag_r, bins=bins)\n",
    "ax0.plot(bins, len(mag_r) * np.exp(log_dens_mag_r) / np.exp(log_dens_mag_r).sum(), color=p[1])\n",
    "ax0.set_xlim(13.5, 22.5)\n",
    "ax0.set_yticks([0, 200, 400, 600])\n",
    "ax0.set_ylabel('$N$')\n",
    "\n",
    "ax1.plot(bins, stars_frac_med, color=p[3])\n",
    "ax1.set_xlim(13.5, 22.5)\n",
    "ax1.set_ylim(0, 0.75)\n",
    "ax1.set_yticks([0, 0.2, 0.4, 0.6])\n",
    "ax1.set_ylabel('stellar fraction')\n",
    "ax1.legend(loc='upper right')\n",
    "\n",
    "ax2.plot(bins, cnn_g_med, label='ConvNet', ls='-', color=p[2])\n",
    "ax2.fill_between(bins, cnn_g_lower, cnn_g_upper, color=p[2], alpha=alpha)\n",
    "\n",
    "ax2.plot(bins, morph_g_med, label='$\\mathregular{TPC_{morph}}$', ls='--', color=p[0])\n",
    "ax2.fill_between(bins, morph_g_lower, morph_g_upper, color=p[0], alpha=alpha)\n",
    "\n",
    "ax2.plot(bins, phot_g_med, label='$\\mathregular{TPC_{phot}}$', ls='--', color=p[4])\n",
    "ax2.fill_between(bins, phot_g_lower, phot_g_upper, color=p[4], alpha=alpha)\n",
    "\n",
    "\n",
    "ax2.legend(loc='lower center')\n",
    "\n",
    "ax2.set_xlim(13.5, 22.5)\n",
    "ax2.set_ylim(0.81, 1.04)\n",
    "ax2.set_yticks([0.85, 0.9, 0.95, 1.0])\n",
    "\n",
    "ax2.set_ylabel(r'$p_g\\left(c_g=0.96\\right)$', fontsize=12)\n",
    "\n",
    "ax3.plot(bins, cnn_s_med, label='ConvNet', ls='-', color=p[2])\n",
    "ax3.fill_between(bins, cnn_s_lower, cnn_s_upper, color=p[2], alpha=alpha)\n",
    "\n",
    "ax3.plot(bins, phot_s_med, label='TPC', ls='--', color=p[4])\n",
    "ax3.fill_between(bins, phot_s_lower, phot_s_upper, color=p[4], alpha=alpha)\n",
    "\n",
    "ax3.plot(bins, morph_s_med, label='TPC', ls='--', color=p[0])\n",
    "ax3.fill_between(bins, morph_s_lower, morph_s_upper, color=p[0], alpha=alpha)\n",
    "\n",
    "ax3.set_ylabel(r'$c_s\\left(p_s=0.97\\right)$', fontsize=12)\n",
    "ax3.set_xlim(13.5, 22.5)\n",
    "ax3.set_ylim(0.49, 1.05)\n",
    "#ax3.set_yticks([0.96, 1.0])\n",
    "\n",
    "ax3.set_xlabel(r'$r$ (mag)')\n",
    "\n",
    "plt.subplots_adjust(hspace=0)\n",
    "plt.savefig('figures/sdss_mag.pdf', bbox_inches='tight')\n",
    "\n",
    "plt.show()"
   ]
  },
  {
   "cell_type": "code",
   "execution_count": null,
   "metadata": {
    "collapsed": true
   },
   "outputs": [],
   "source": []
  }
 ],
 "metadata": {
  "kernelspec": {
   "display_name": "Python 3",
   "language": "python",
   "name": "python3"
  },
  "language_info": {
   "codemirror_mode": {
    "name": "ipython",
    "version": 3
   },
   "file_extension": ".py",
   "mimetype": "text/x-python",
   "name": "python",
   "nbconvert_exporter": "python",
   "pygments_lexer": "ipython3",
   "version": "3.4.0"
  }
 },
 "nbformat": 4,
 "nbformat_minor": 0
}
